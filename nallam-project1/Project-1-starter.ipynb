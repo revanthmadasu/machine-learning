{
  "cells": [
    {
      "cell_type": "markdown",
      "metadata": {
        "id": "view-in-github",
        "colab_type": "text"
      },
      "source": [
        "<a href=\"https://colab.research.google.com/github/revanthmadasu/machine-learning/blob/nallam-project/nallam-project1/Project-1-starter.ipynb\" target=\"_parent\"><img src=\"https://colab.research.google.com/assets/colab-badge.svg\" alt=\"Open In Colab\"/></a>"
      ]
    },
    {
      "cell_type": "markdown",
      "id": "62834763",
      "metadata": {
        "id": "62834763"
      },
      "source": [
        "# Project 1 Starter\n",
        "\n",
        "**This is draft - version 0 - changes are possible and will be anounced.**\n",
        "\n",
        "Project 1 is to allow students to practice Data Science concepts learned so far.\n",
        "\n",
        "The project will include following tasks:\n",
        "- Load dataset. Don't use \"index\" column for training.\n",
        "- Clean up the data:\n",
        "    - Encode replace missing values\n",
        "    - Replace features values that appear incorrect\n",
        "- Encode categorical variables\n",
        "- Split dataset to Train/Validation/Test\n",
        "- Add engineered features\n",
        "- Train and tune ML model\n",
        "- Provide final metrics using Test dataset\n",
        "\n",
        "### Types of models to train\n",
        "\n",
        "Your final submission should include single model. \n",
        "The model set you should try to come up with best model:\n",
        "1. Sklearn Logistic Regression - try all combinations of regularization\n",
        "2. H2O-3 GLM - try different combinations of regularization\n",
        "\n",
        "\n",
        "\n",
        "### Feature engineering\n",
        "\n",
        "You should train/fit categorical features scalers and encoders on Train only. Use `transform` or equivalent function on Validation/Test datasets.\n",
        "\n",
        "It is important to understand all the steps before model training, so that you can reliably replicate and test them to produce scoring function.\n",
        "\n",
        "\n",
        "You should generate various new features. Examples of such features can be seen in the Module-3 lecture on GLMs.\n",
        "Your final model should have at least **10** new engineered features. On-hot-encoding, label encoding, and target encoding is not included in the **10** features.\n",
        "You can try, but target encoding is not expected to produce improvement for Linear models.\n",
        "\n",
        "Ideas for Feature engineering for various types of variables:\n",
        "1. https://docs.h2o.ai/driverless-ai/1-10-lts/docs/userguide/transformations.html\n",
        "2. GLM lecture and hands-on (Module-3)\n",
        "\n",
        "\n",
        "**Note**: \n",
        "- You don't have to perform feature engineering using H2O-3 even if you decided to use H2O-3 GLM for model training.\n",
        "- It is OK to perfor feature engineering using any technique, as long as you can replicate it correctly in the Scoring function.\n",
        "\n",
        "\n",
        "### Threshold calculation\n",
        "\n",
        "You will need to calculate optimal threshold for class assignment using F1 metric:\n",
        "- If using sklearn, use F1 `macro`: `f1_score(y_true, y_pred, average='macro')` \n",
        "- If using H2O-3, use F1\n",
        "\n",
        "You will need to find optimal probability threshold for class assignment, the threshold that maximizes above F1.\n",
        "\n",
        "\n",
        "\n",
        "### Scoring function\n",
        "\n",
        "The Project-1 will be graded based on the completeness and performance of your final model against the hold-out dataset.\n",
        "The hold-out dataset will not be known to the students. As part of your deliverables, you will need to submit a scoring function. The scoring function will perform the following:\n",
        "- Accept dataset in the same format as provided with the project, minus \"MIS_Status\" column\n",
        "- Load trained model and any encoders/scalers that are needed to transform data\n",
        "- Transform dataset into format that can be scored with the trained model\n",
        "- Score the dataset and return the results, for each record\n",
        "    - Record ID\n",
        "    - Record label as determined by final model (0 or 1)\n",
        "    - If your model returns probabilities, you need to assign the label based on maximum F1 threshold\n",
        "    \n",
        "Scoring function header:\n",
        "```\n",
        "def project_1_scoring(data):\n",
        "    \"\"\"\n",
        "    Function to score input dataset.\n",
        "    \n",
        "    Input: dataset in Pandas DataFrame format\n",
        "    Output: Python list of labels in the same order as input records\n",
        "    \n",
        "    Flow:\n",
        "        - Load artifacts\n",
        "        - Transform dataset\n",
        "        - Score dataset\n",
        "        - Return labels\n",
        "    \n",
        "    \"\"\"\n",
        "    l = data.shape[0]\n",
        "    return l*[0]\n",
        "```\n",
        "\n",
        "Look for full example of scoring function at the bottom of the notebook. **Don't copy as is - this is just an example**\n",
        "\n",
        "\n",
        "\n",
        "### Deliverables in a single zip file in the following structure:\n",
        "- `notebook` (folder)\n",
        "    - Jupyter notebook with complete code to manipulate data, train and tune final model. `ipynb` format\n",
        "    - Jupyter notebook in `html` format\n",
        "- `artifacts` (folder)\n",
        "    - Model and any potential encoders in the \"pkl\" format or native H2O-3 format (for H2O-3 model)\n",
        "    - Scoring function that will load the final model and encoders. Separate from above notebook or `.py` file\n",
        "\n",
        "\n",
        "\n",
        "Your notebook should include explanations about your code and be designed to be easily followed and results replicated. Once you are done with the final version, you will need to test it by running all cells from top to bottom after restarting Kernel. It can be done by running `Kernel -> Restart & Run All`\n",
        "\n",
        "\n",
        "**Important**: To speed up progress, first produce working code using a small subset of the dataset."
      ]
    },
    {
      "cell_type": "code",
      "execution_count": null,
      "id": "dbeaf5cb",
      "metadata": {
        "id": "dbeaf5cb"
      },
      "outputs": [],
      "source": []
    },
    {
      "cell_type": "markdown",
      "id": "c341cb74",
      "metadata": {
        "id": "c341cb74"
      },
      "source": [
        "## Dataset description\n",
        "\n",
        "The dataset is from the U.S. Small Business Administration (SBA) The U.S. SBA was founded in 1953 on the principle of promoting and assisting small enterprises in the U.S. credit market (SBA Overview and History, US Small Business Administration (2015)). Small businesses have been a primary source of job creation in the United States; therefore, fostering small business formation and growth has social benefits by creating job opportunities and reducing unemployment. There have been many success stories of start-ups receiving SBA loan guarantees such as FedEx and Apple Computer. However, there have also been stories of small businesses and/or start-ups that have defaulted on their SBA-guaranteed loans.  \n",
        "More info on the original dataset: https://www.kaggle.com/mirbektoktogaraev/should-this-loan-be-approved-or-denied\n",
        "\n",
        "**Don't use original dataset, use only dataset provided with project requirements in eLearning**"
      ]
    },
    {
      "cell_type": "markdown",
      "id": "a0c9b618",
      "metadata": {
        "id": "a0c9b618"
      },
      "source": [
        "## Preparation\n",
        "\n",
        "Use dataset provided in the eLearning"
      ]
    },
    {
      "cell_type": "code",
      "execution_count": 1,
      "id": "3ca7e035",
      "metadata": {
        "colab": {
          "base_uri": "https://localhost:8080/",
          "height": 17
        },
        "id": "3ca7e035",
        "outputId": "e84ddb3c-ec00-4639-c157-4cfeefe82ea2"
      },
      "outputs": [
        {
          "output_type": "display_data",
          "data": {
            "text/plain": [
              "<IPython.core.display.HTML object>"
            ],
            "text/html": [
              "<style>.container { width:80% !important; }</style>"
            ]
          },
          "metadata": {}
        }
      ],
      "source": [
        "import pandas as pd\n",
        "pd.set_option('display.max_columns', 1500)\n",
        "\n",
        "import warnings\n",
        "warnings.filterwarnings('ignore')\n",
        "\n",
        "#Extend cell width\n",
        "from IPython.core.display import display, HTML\n",
        "display(HTML(\"<style>.container { width:80% !important; }</style>\"))"
      ]
    },
    {
      "cell_type": "code",
      "execution_count": 2,
      "id": "eb889838",
      "metadata": {
        "id": "eb889838"
      },
      "outputs": [],
      "source": [
        "\"\"\"\n",
        "Created on Mon Mar 18 18:25:50 2019\n",
        "\n",
        "@author: Uri Smashnov\n",
        "\n",
        "Purpose: Analyze input Pandas DataFrame and return stats per column\n",
        "Details: The function calculates levels for categorical variables and allows to analyze summarized information\n",
        "\n",
        "To view wide table set following Pandas options:\n",
        "pd.set_option('display.width', 1000)\n",
        "pd.set_option('max_colwidth',200)\n",
        "\"\"\"\n",
        "import pandas as pd\n",
        "def describe_more(df,normalize_ind=False, weight_column=None, skip_columns=[], dropna=True):\n",
        "    var = [] ; l = [] ; t = []; unq =[]; min_l = []; max_l = [];\n",
        "    assert isinstance(skip_columns, list), \"Argument skip_columns should be list\"\n",
        "    if weight_column is not None:\n",
        "        if weight_column not in list(df.columns):\n",
        "            raise AssertionError('weight_column is not a valid column name in the input DataFrame')\n",
        "      \n",
        "    for x in df:\n",
        "        if x in skip_columns:\n",
        "            pass\n",
        "        else:\n",
        "            var.append( x )\n",
        "            uniq_counts = len(pd.value_counts(df[x],dropna=dropna))\n",
        "            uniq_counts = len(pd.value_counts(df[x], dropna=dropna)[pd.value_counts(df[x],dropna=dropna)>0])\n",
        "            l.append(uniq_counts)\n",
        "            t.append( df[ x ].dtypes )\n",
        "            min_l.append(df[x].apply(str).str.len().min())\n",
        "            max_l.append(df[x].apply(str).str.len().max())\n",
        "            if weight_column is not None and x not in skip_columns:\n",
        "                df2 = df.groupby(x).agg({weight_column: 'sum'}).sort_values(weight_column, ascending=False)\n",
        "                df2['authtrans_vts_cnt']=((df2[weight_column])/df2[weight_column].sum()).round(2)\n",
        "                unq.append(df2.head(n=100).to_dict()[weight_column])\n",
        "            else:\n",
        "                df_cat_d = df[x].value_counts(normalize=normalize_ind,dropna=dropna).round(decimals=2)\n",
        "                df_cat_d = df_cat_d[df_cat_d>0]\n",
        "                #unq.append(df[x].value_counts().iloc[0:100].to_dict())\n",
        "                unq.append(df_cat_d.iloc[0:100].to_dict())\n",
        "            \n",
        "    levels = pd.DataFrame( { 'A_Variable' : var , 'Levels' : l , 'Datatype' : t ,\n",
        "                             'Min Length' : min_l,\n",
        "                             'Max Length': max_l,\n",
        "                             'Level_Values' : unq} )\n",
        "    #levels.sort_values( by = 'Levels' , inplace = True )\n",
        "    return levels"
      ]
    },
    {
      "cell_type": "markdown",
      "id": "cee2c254",
      "metadata": {
        "id": "cee2c254"
      },
      "source": [
        "### Load data"
      ]
    },
    {
      "cell_type": "code",
      "execution_count": 4,
      "id": "a19bd163",
      "metadata": {
        "id": "a19bd163"
      },
      "outputs": [],
      "source": [
        "data = pd.read_csv('./data/SBA_loans_project_1.zip')"
      ]
    },
    {
      "cell_type": "code",
      "execution_count": null,
      "id": "2301a5ed",
      "metadata": {
        "colab": {
          "base_uri": "https://localhost:8080/"
        },
        "id": "2301a5ed",
        "outputId": "23d6f503-8b6d-4c79-ccb7-524163bf307c"
      },
      "outputs": [
        {
          "output_type": "stream",
          "name": "stdout",
          "text": [
            "Data shape: (809247, 21)\n"
          ]
        }
      ],
      "source": [
        "print(\"Data shape:\", data.shape)"
      ]
    },
    {
      "cell_type": "markdown",
      "id": "ab8b4aea",
      "metadata": {
        "id": "ab8b4aea"
      },
      "source": [
        "**Review dataset**"
      ]
    },
    {
      "cell_type": "code",
      "execution_count": null,
      "id": "547f9eb1",
      "metadata": {
        "colab": {
          "base_uri": "https://localhost:8080/",
          "height": 700
        },
        "id": "547f9eb1",
        "outputId": "281032d0-b275-4ada-a48c-eb7971e8ee04"
      },
      "outputs": [
        {
          "output_type": "execute_result",
          "data": {
            "text/plain": [
              "           A_Variable  Levels Datatype  Min Length  Max Length  \\\n",
              "0               index  809247    int64           1           6   \n",
              "1                City   31320   object           1          30   \n",
              "2               State      51   object           2           3   \n",
              "3                 Zip   32731    int64           1           5   \n",
              "4                Bank    5716   object           3          30   \n",
              "5           BankState      55   object           2           3   \n",
              "6               NAICS    1307    int64           1           6   \n",
              "7                Term     407    int64           1           3   \n",
              "8               NoEmp     581    int64           1           4   \n",
              "9            NewExist       3  float64           3           3   \n",
              "10          CreateJob     234    int64           1           4   \n",
              "11        RetainedJob     345    int64           1           4   \n",
              "12      FranchiseCode    2684    int64           1           5   \n",
              "13         UrbanRural       3    int64           1           1   \n",
              "14          RevLineCr      16   object           1           3   \n",
              "15             LowDoc       8   object           1           3   \n",
              "16  DisbursementGross  110579   object           6          15   \n",
              "17       BalanceGross      13   object           6          12   \n",
              "18             GrAppv   20724   object           8          14   \n",
              "19           SBA_Appv   35896   object           8          14   \n",
              "20         MIS_Status       2   object           3           6   \n",
              "\n",
              "                                         Level_Values  \n",
              "0   {0: 1, 539491: 1, 539493: 1, 539494: 1, 539495...  \n",
              "1   {'LOS ANGELES': 10372, 'HOUSTON': 9260, 'NEW Y...  \n",
              "2   {'CA': 117341, 'TX': 63425, 'NY': 51877, 'FL':...  \n",
              "3   {10001: 841, 90015: 830, 93401: 729, 90010: 65...  \n",
              "4   {'BANK OF AMERICA NATL ASSOC': 78111, 'WELLS F...  \n",
              "5   {'CA': 106293, 'NC': 71557, 'IL': 59258, 'OH':...  \n",
              "6   {0: 181845, 722110: 25217, 722211: 17476, 8111...  \n",
              "7   {84: 207228, 60: 80965, 240: 77385, 120: 69852...  \n",
              "8   {1: 138836, 2: 124470, 3: 81466, 4: 66306, 5: ...  \n",
              "9                {1.0: 580478, 2.0: 227709, 0.0: 932}  \n",
              "10  {0: 566148, 1: 56789, 2: 52162, 3: 25945, 4: 1...  \n",
              "11  {0: 396287, 1: 79893, 2: 69149, 3: 44941, 4: 3...  \n",
              "12  {1: 574731, 0: 187961, 78760: 3043, 68020: 173...  \n",
              "13                   {1: 423681, 0: 290804, 2: 94762}  \n",
              "14  {'N': 378424, '0': 231967, 'Y': 181011, 'T': 1...  \n",
              "15  {'N': 704515, 'Y': 99339, '0': 1343, 'C': 681,...  \n",
              "16  {'$50,000.00 ': 39328, '$100,000.00 ': 33116, ...  \n",
              "17  {'$0.00 ': 809235, '$41,509.00 ': 1, '$115,820...  \n",
              "18  {'$50,000.00 ': 62264, '$25,000.00 ': 46168, '...  \n",
              "19  {'$25,000.00 ': 44418, '$12,500.00 ': 36115, '...  \n",
              "20                {'P I F': 665576, 'CHGOFF': 141849}  "
            ],
            "text/html": [
              "\n",
              "  <div id=\"df-04adc79b-47e2-4bb2-af97-261a9c008ab3\">\n",
              "    <div class=\"colab-df-container\">\n",
              "      <div>\n",
              "<style scoped>\n",
              "    .dataframe tbody tr th:only-of-type {\n",
              "        vertical-align: middle;\n",
              "    }\n",
              "\n",
              "    .dataframe tbody tr th {\n",
              "        vertical-align: top;\n",
              "    }\n",
              "\n",
              "    .dataframe thead th {\n",
              "        text-align: right;\n",
              "    }\n",
              "</style>\n",
              "<table border=\"1\" class=\"dataframe\">\n",
              "  <thead>\n",
              "    <tr style=\"text-align: right;\">\n",
              "      <th></th>\n",
              "      <th>A_Variable</th>\n",
              "      <th>Levels</th>\n",
              "      <th>Datatype</th>\n",
              "      <th>Min Length</th>\n",
              "      <th>Max Length</th>\n",
              "      <th>Level_Values</th>\n",
              "    </tr>\n",
              "  </thead>\n",
              "  <tbody>\n",
              "    <tr>\n",
              "      <th>0</th>\n",
              "      <td>index</td>\n",
              "      <td>809247</td>\n",
              "      <td>int64</td>\n",
              "      <td>1</td>\n",
              "      <td>6</td>\n",
              "      <td>{0: 1, 539491: 1, 539493: 1, 539494: 1, 539495...</td>\n",
              "    </tr>\n",
              "    <tr>\n",
              "      <th>1</th>\n",
              "      <td>City</td>\n",
              "      <td>31320</td>\n",
              "      <td>object</td>\n",
              "      <td>1</td>\n",
              "      <td>30</td>\n",
              "      <td>{'LOS ANGELES': 10372, 'HOUSTON': 9260, 'NEW Y...</td>\n",
              "    </tr>\n",
              "    <tr>\n",
              "      <th>2</th>\n",
              "      <td>State</td>\n",
              "      <td>51</td>\n",
              "      <td>object</td>\n",
              "      <td>2</td>\n",
              "      <td>3</td>\n",
              "      <td>{'CA': 117341, 'TX': 63425, 'NY': 51877, 'FL':...</td>\n",
              "    </tr>\n",
              "    <tr>\n",
              "      <th>3</th>\n",
              "      <td>Zip</td>\n",
              "      <td>32731</td>\n",
              "      <td>int64</td>\n",
              "      <td>1</td>\n",
              "      <td>5</td>\n",
              "      <td>{10001: 841, 90015: 830, 93401: 729, 90010: 65...</td>\n",
              "    </tr>\n",
              "    <tr>\n",
              "      <th>4</th>\n",
              "      <td>Bank</td>\n",
              "      <td>5716</td>\n",
              "      <td>object</td>\n",
              "      <td>3</td>\n",
              "      <td>30</td>\n",
              "      <td>{'BANK OF AMERICA NATL ASSOC': 78111, 'WELLS F...</td>\n",
              "    </tr>\n",
              "    <tr>\n",
              "      <th>5</th>\n",
              "      <td>BankState</td>\n",
              "      <td>55</td>\n",
              "      <td>object</td>\n",
              "      <td>2</td>\n",
              "      <td>3</td>\n",
              "      <td>{'CA': 106293, 'NC': 71557, 'IL': 59258, 'OH':...</td>\n",
              "    </tr>\n",
              "    <tr>\n",
              "      <th>6</th>\n",
              "      <td>NAICS</td>\n",
              "      <td>1307</td>\n",
              "      <td>int64</td>\n",
              "      <td>1</td>\n",
              "      <td>6</td>\n",
              "      <td>{0: 181845, 722110: 25217, 722211: 17476, 8111...</td>\n",
              "    </tr>\n",
              "    <tr>\n",
              "      <th>7</th>\n",
              "      <td>Term</td>\n",
              "      <td>407</td>\n",
              "      <td>int64</td>\n",
              "      <td>1</td>\n",
              "      <td>3</td>\n",
              "      <td>{84: 207228, 60: 80965, 240: 77385, 120: 69852...</td>\n",
              "    </tr>\n",
              "    <tr>\n",
              "      <th>8</th>\n",
              "      <td>NoEmp</td>\n",
              "      <td>581</td>\n",
              "      <td>int64</td>\n",
              "      <td>1</td>\n",
              "      <td>4</td>\n",
              "      <td>{1: 138836, 2: 124470, 3: 81466, 4: 66306, 5: ...</td>\n",
              "    </tr>\n",
              "    <tr>\n",
              "      <th>9</th>\n",
              "      <td>NewExist</td>\n",
              "      <td>3</td>\n",
              "      <td>float64</td>\n",
              "      <td>3</td>\n",
              "      <td>3</td>\n",
              "      <td>{1.0: 580478, 2.0: 227709, 0.0: 932}</td>\n",
              "    </tr>\n",
              "    <tr>\n",
              "      <th>10</th>\n",
              "      <td>CreateJob</td>\n",
              "      <td>234</td>\n",
              "      <td>int64</td>\n",
              "      <td>1</td>\n",
              "      <td>4</td>\n",
              "      <td>{0: 566148, 1: 56789, 2: 52162, 3: 25945, 4: 1...</td>\n",
              "    </tr>\n",
              "    <tr>\n",
              "      <th>11</th>\n",
              "      <td>RetainedJob</td>\n",
              "      <td>345</td>\n",
              "      <td>int64</td>\n",
              "      <td>1</td>\n",
              "      <td>4</td>\n",
              "      <td>{0: 396287, 1: 79893, 2: 69149, 3: 44941, 4: 3...</td>\n",
              "    </tr>\n",
              "    <tr>\n",
              "      <th>12</th>\n",
              "      <td>FranchiseCode</td>\n",
              "      <td>2684</td>\n",
              "      <td>int64</td>\n",
              "      <td>1</td>\n",
              "      <td>5</td>\n",
              "      <td>{1: 574731, 0: 187961, 78760: 3043, 68020: 173...</td>\n",
              "    </tr>\n",
              "    <tr>\n",
              "      <th>13</th>\n",
              "      <td>UrbanRural</td>\n",
              "      <td>3</td>\n",
              "      <td>int64</td>\n",
              "      <td>1</td>\n",
              "      <td>1</td>\n",
              "      <td>{1: 423681, 0: 290804, 2: 94762}</td>\n",
              "    </tr>\n",
              "    <tr>\n",
              "      <th>14</th>\n",
              "      <td>RevLineCr</td>\n",
              "      <td>16</td>\n",
              "      <td>object</td>\n",
              "      <td>1</td>\n",
              "      <td>3</td>\n",
              "      <td>{'N': 378424, '0': 231967, 'Y': 181011, 'T': 1...</td>\n",
              "    </tr>\n",
              "    <tr>\n",
              "      <th>15</th>\n",
              "      <td>LowDoc</td>\n",
              "      <td>8</td>\n",
              "      <td>object</td>\n",
              "      <td>1</td>\n",
              "      <td>3</td>\n",
              "      <td>{'N': 704515, 'Y': 99339, '0': 1343, 'C': 681,...</td>\n",
              "    </tr>\n",
              "    <tr>\n",
              "      <th>16</th>\n",
              "      <td>DisbursementGross</td>\n",
              "      <td>110579</td>\n",
              "      <td>object</td>\n",
              "      <td>6</td>\n",
              "      <td>15</td>\n",
              "      <td>{'$50,000.00 ': 39328, '$100,000.00 ': 33116, ...</td>\n",
              "    </tr>\n",
              "    <tr>\n",
              "      <th>17</th>\n",
              "      <td>BalanceGross</td>\n",
              "      <td>13</td>\n",
              "      <td>object</td>\n",
              "      <td>6</td>\n",
              "      <td>12</td>\n",
              "      <td>{'$0.00 ': 809235, '$41,509.00 ': 1, '$115,820...</td>\n",
              "    </tr>\n",
              "    <tr>\n",
              "      <th>18</th>\n",
              "      <td>GrAppv</td>\n",
              "      <td>20724</td>\n",
              "      <td>object</td>\n",
              "      <td>8</td>\n",
              "      <td>14</td>\n",
              "      <td>{'$50,000.00 ': 62264, '$25,000.00 ': 46168, '...</td>\n",
              "    </tr>\n",
              "    <tr>\n",
              "      <th>19</th>\n",
              "      <td>SBA_Appv</td>\n",
              "      <td>35896</td>\n",
              "      <td>object</td>\n",
              "      <td>8</td>\n",
              "      <td>14</td>\n",
              "      <td>{'$25,000.00 ': 44418, '$12,500.00 ': 36115, '...</td>\n",
              "    </tr>\n",
              "    <tr>\n",
              "      <th>20</th>\n",
              "      <td>MIS_Status</td>\n",
              "      <td>2</td>\n",
              "      <td>object</td>\n",
              "      <td>3</td>\n",
              "      <td>6</td>\n",
              "      <td>{'P I F': 665576, 'CHGOFF': 141849}</td>\n",
              "    </tr>\n",
              "  </tbody>\n",
              "</table>\n",
              "</div>\n",
              "      <button class=\"colab-df-convert\" onclick=\"convertToInteractive('df-04adc79b-47e2-4bb2-af97-261a9c008ab3')\"\n",
              "              title=\"Convert this dataframe to an interactive table.\"\n",
              "              style=\"display:none;\">\n",
              "        \n",
              "  <svg xmlns=\"http://www.w3.org/2000/svg\" height=\"24px\"viewBox=\"0 0 24 24\"\n",
              "       width=\"24px\">\n",
              "    <path d=\"M0 0h24v24H0V0z\" fill=\"none\"/>\n",
              "    <path d=\"M18.56 5.44l.94 2.06.94-2.06 2.06-.94-2.06-.94-.94-2.06-.94 2.06-2.06.94zm-11 1L8.5 8.5l.94-2.06 2.06-.94-2.06-.94L8.5 2.5l-.94 2.06-2.06.94zm10 10l.94 2.06.94-2.06 2.06-.94-2.06-.94-.94-2.06-.94 2.06-2.06.94z\"/><path d=\"M17.41 7.96l-1.37-1.37c-.4-.4-.92-.59-1.43-.59-.52 0-1.04.2-1.43.59L10.3 9.45l-7.72 7.72c-.78.78-.78 2.05 0 2.83L4 21.41c.39.39.9.59 1.41.59.51 0 1.02-.2 1.41-.59l7.78-7.78 2.81-2.81c.8-.78.8-2.07 0-2.86zM5.41 20L4 18.59l7.72-7.72 1.47 1.35L5.41 20z\"/>\n",
              "  </svg>\n",
              "      </button>\n",
              "      \n",
              "  <style>\n",
              "    .colab-df-container {\n",
              "      display:flex;\n",
              "      flex-wrap:wrap;\n",
              "      gap: 12px;\n",
              "    }\n",
              "\n",
              "    .colab-df-convert {\n",
              "      background-color: #E8F0FE;\n",
              "      border: none;\n",
              "      border-radius: 50%;\n",
              "      cursor: pointer;\n",
              "      display: none;\n",
              "      fill: #1967D2;\n",
              "      height: 32px;\n",
              "      padding: 0 0 0 0;\n",
              "      width: 32px;\n",
              "    }\n",
              "\n",
              "    .colab-df-convert:hover {\n",
              "      background-color: #E2EBFA;\n",
              "      box-shadow: 0px 1px 2px rgba(60, 64, 67, 0.3), 0px 1px 3px 1px rgba(60, 64, 67, 0.15);\n",
              "      fill: #174EA6;\n",
              "    }\n",
              "\n",
              "    [theme=dark] .colab-df-convert {\n",
              "      background-color: #3B4455;\n",
              "      fill: #D2E3FC;\n",
              "    }\n",
              "\n",
              "    [theme=dark] .colab-df-convert:hover {\n",
              "      background-color: #434B5C;\n",
              "      box-shadow: 0px 1px 3px 1px rgba(0, 0, 0, 0.15);\n",
              "      filter: drop-shadow(0px 1px 2px rgba(0, 0, 0, 0.3));\n",
              "      fill: #FFFFFF;\n",
              "    }\n",
              "  </style>\n",
              "\n",
              "      <script>\n",
              "        const buttonEl =\n",
              "          document.querySelector('#df-04adc79b-47e2-4bb2-af97-261a9c008ab3 button.colab-df-convert');\n",
              "        buttonEl.style.display =\n",
              "          google.colab.kernel.accessAllowed ? 'block' : 'none';\n",
              "\n",
              "        async function convertToInteractive(key) {\n",
              "          const element = document.querySelector('#df-04adc79b-47e2-4bb2-af97-261a9c008ab3');\n",
              "          const dataTable =\n",
              "            await google.colab.kernel.invokeFunction('convertToInteractive',\n",
              "                                                     [key], {});\n",
              "          if (!dataTable) return;\n",
              "\n",
              "          const docLinkHtml = 'Like what you see? Visit the ' +\n",
              "            '<a target=\"_blank\" href=https://colab.research.google.com/notebooks/data_table.ipynb>data table notebook</a>'\n",
              "            + ' to learn more about interactive tables.';\n",
              "          element.innerHTML = '';\n",
              "          dataTable['output_type'] = 'display_data';\n",
              "          await google.colab.output.renderOutput(dataTable, element);\n",
              "          const docLink = document.createElement('div');\n",
              "          docLink.innerHTML = docLinkHtml;\n",
              "          element.appendChild(docLink);\n",
              "        }\n",
              "      </script>\n",
              "    </div>\n",
              "  </div>\n",
              "  "
            ]
          },
          "metadata": {},
          "execution_count": 7
        }
      ],
      "source": [
        "desc_df = describe_more(data)\n",
        "desc_df"
      ]
    },
    {
      "cell_type": "markdown",
      "id": "5fe1af41",
      "metadata": {
        "id": "5fe1af41"
      },
      "source": [
        "## Dataset preparation and clean-up\n",
        "\n",
        "Modify and clean-up the dataset as following:\n",
        "- Replace encode Na/Null values\n",
        "- Convert the strings styled as '$XXXX.XX' to float values. Columns = ['DisbursementGross', 'BalanceGross', 'GrAppv', 'SBA_Appv']\n",
        "- Convert MIS_Status to 0/1. Make value \"CHGOFF\" as 1\n",
        "\n",
        "Any additional clean-up as you find fit."
      ]
    },
    {
      "cell_type": "code",
      "execution_count": 5,
      "id": "0f9f9eaa",
      "metadata": {
        "colab": {
          "base_uri": "https://localhost:8080/"
        },
        "id": "0f9f9eaa",
        "outputId": "e9ec5d0d-2ea5-4ccc-ac78-50f0d8601ce9"
      },
      "outputs": [
        {
          "output_type": "execute_result",
          "data": {
            "text/plain": [
              "City                                  GLEN BURNIE\n",
              "State                                          MD\n",
              "Zip                                         21060\n",
              "Bank                 BUSINESS FINANCE GROUP, INC.\n",
              "BankState                                      VA\n",
              "NAICS                                      811111\n",
              "Term                                          240\n",
              "NoEmp                                           7\n",
              "NewExist                                      1.0\n",
              "CreateJob                                       6\n",
              "RetainedJob                                     7\n",
              "FranchiseCode                                   1\n",
              "UrbanRural                                      1\n",
              "RevLineCr                                       0\n",
              "LowDoc                                          N\n",
              "DisbursementGross                        743000.0\n",
              "BalanceGross                                  0.0\n",
              "GrAppv                                   743000.0\n",
              "SBA_Appv                                 743000.0\n",
              "MIS_Status                                  P I F\n",
              "Name: 0, dtype: object"
            ]
          },
          "metadata": {},
          "execution_count": 5
        }
      ],
      "source": [
        "# remove index\n",
        "processed_data = data.loc[:,data.columns!='index']\n",
        "def dollar_string_to_float(dollar_str):\n",
        "  dollar_str = dollar_str.replace(',', '')\n",
        "  dollar_float = float(dollar_str[1:])\n",
        "  return dollar_float\n",
        "currency_cols = ['DisbursementGross', 'BalanceGross', 'GrAppv', 'SBA_Appv']\n",
        "for colname in currency_cols:\n",
        "  processed_data[colname] = processed_data[colname].apply(dollar_string_to_float)\n",
        "processed_data.loc[0]"
      ]
    },
    {
      "cell_type": "code",
      "source": [
        "processed_data['MIS_Status'] = processed_data['MIS_Status'].replace('P I F', 0)\n",
        "processed_data['MIS_Status'] = processed_data['MIS_Status'].replace('CHGOFF', 1)\n",
        "processed_data = processed_data.dropna(subset='MIS_Status')\n",
        "processed_data['MIS_Status'].unique()"
      ],
      "metadata": {
        "colab": {
          "base_uri": "https://localhost:8080/"
        },
        "id": "WJlBnwrPvIg4",
        "outputId": "560f2071-229a-4568-f5b4-ba70bf07c1dd"
      },
      "id": "WJlBnwrPvIg4",
      "execution_count": 6,
      "outputs": [
        {
          "output_type": "execute_result",
          "data": {
            "text/plain": [
              "array([0., 1.])"
            ]
          },
          "metadata": {},
          "execution_count": 6
        }
      ]
    },
    {
      "cell_type": "code",
      "source": [
        "for column in processed_data.columns:\n",
        "  print(column)\n",
        "  print(processed_data[column].isna().sum())"
      ],
      "metadata": {
        "id": "8F1YM0Eh4cLd",
        "outputId": "a620ecaf-f0a9-4a8b-806f-3a3da2655349",
        "colab": {
          "base_uri": "https://localhost:8080/"
        }
      },
      "id": "8F1YM0Eh4cLd",
      "execution_count": 11,
      "outputs": [
        {
          "output_type": "stream",
          "name": "stdout",
          "text": [
            "City\n",
            "0\n",
            "State\n",
            "0\n",
            "Zip\n",
            "0\n",
            "Bank\n",
            "0\n",
            "BankState\n",
            "0\n",
            "NAICS\n",
            "0\n",
            "Term\n",
            "0\n",
            "NoEmp\n",
            "0\n",
            "NewExist\n",
            "0\n",
            "CreateJob\n",
            "0\n",
            "RetainedJob\n",
            "0\n",
            "FranchiseCode\n",
            "0\n",
            "UrbanRural\n",
            "0\n",
            "RevLineCr\n",
            "0\n",
            "LowDoc\n",
            "0\n",
            "DisbursementGross\n",
            "0\n",
            "BalanceGross\n",
            "0\n",
            "GrAppv\n",
            "0\n",
            "SBA_Appv\n",
            "0\n",
            "MIS_Status\n",
            "0\n"
          ]
        }
      ]
    },
    {
      "cell_type": "code",
      "source": [
        "processed_data.info()"
      ],
      "metadata": {
        "id": "PK_OOX3d7U3W",
        "outputId": "f25cac07-561b-4dca-b557-ced8907d7ebb",
        "colab": {
          "base_uri": "https://localhost:8080/"
        }
      },
      "id": "PK_OOX3d7U3W",
      "execution_count": null,
      "outputs": [
        {
          "output_type": "stream",
          "name": "stdout",
          "text": [
            "<class 'pandas.core.frame.DataFrame'>\n",
            "RangeIndex: 809247 entries, 0 to 809246\n",
            "Data columns (total 20 columns):\n",
            " #   Column             Non-Null Count   Dtype  \n",
            "---  ------             --------------   -----  \n",
            " 0   City               809222 non-null  object \n",
            " 1   State              809235 non-null  object \n",
            " 2   Zip                809247 non-null  int64  \n",
            " 3   Bank               807842 non-null  object \n",
            " 4   BankState          807836 non-null  object \n",
            " 5   NAICS              809247 non-null  int64  \n",
            " 6   Term               809247 non-null  int64  \n",
            " 7   NoEmp              809247 non-null  int64  \n",
            " 8   NewExist           809119 non-null  float64\n",
            " 9   CreateJob          809247 non-null  int64  \n",
            " 10  RetainedJob        809247 non-null  int64  \n",
            " 11  FranchiseCode      809247 non-null  int64  \n",
            " 12  UrbanRural         809247 non-null  int64  \n",
            " 13  RevLineCr          805153 non-null  object \n",
            " 14  LowDoc             806928 non-null  object \n",
            " 15  DisbursementGross  809247 non-null  float64\n",
            " 16  BalanceGross       809247 non-null  float64\n",
            " 17  GrAppv             809247 non-null  float64\n",
            " 18  SBA_Appv           809247 non-null  float64\n",
            " 19  MIS_Status         807425 non-null  float64\n",
            "dtypes: float64(6), int64(8), object(6)\n",
            "memory usage: 123.5+ MB\n"
          ]
        }
      ]
    },
    {
      "cell_type": "code",
      "source": [
        "# handling null data\n",
        "row_null_counts = processed_data.isna().any(axis=1).sum()\n",
        "print(\"\\nNumber of rows with null values:\", row_null_counts)\n",
        "def check_null_counts():\n",
        "  col_null_counts = dict()\n",
        "  for column in processed_data.columns:\n",
        "    col_null_count = processed_data[column].isna().sum()\n",
        "    if col_null_count:\n",
        "      col_null_counts[column] = col_null_count\n",
        "  return col_null_counts\n",
        "print(f'before handling: {check_null_counts()}')\n",
        "categoral_null_cols = ['City', 'State', 'Bank', 'BankState', 'RevLineCr', 'LowDoc']\n",
        "for null_cat_col in categoral_null_cols:\n",
        "  processed_data[null_cat_col] = processed_data[null_cat_col].fillna('unknown').astype('category')\n",
        "processed_data['NewExist'] = processed_data['NewExist'].fillna(0)\n",
        "print(f'after handling handling: {check_null_counts()}')"
      ],
      "metadata": {
        "id": "WnHdYBCm1gt9",
        "outputId": "43a3e854-80af-4ef0-c816-ee358ce34eaa",
        "colab": {
          "base_uri": "https://localhost:8080/"
        }
      },
      "id": "WnHdYBCm1gt9",
      "execution_count": 8,
      "outputs": [
        {
          "output_type": "stream",
          "name": "stdout",
          "text": [
            "\n",
            "Number of rows with null values: 7915\n",
            "before handling: {'City': 25, 'State': 11, 'Bank': 1359, 'BankState': 1365, 'NewExist': 127, 'RevLineCr': 4086, 'LowDoc': 2315}\n",
            "after handling handling: {}\n"
          ]
        }
      ]
    },
    {
      "cell_type": "code",
      "source": [
        "processed_data['MIS_Status'].value_counts()"
      ],
      "metadata": {
        "id": "4WzV6vja7o80",
        "outputId": "e884f7de-2acb-4c25-d74b-c8c785c85120",
        "colab": {
          "base_uri": "https://localhost:8080/"
        }
      },
      "id": "4WzV6vja7o80",
      "execution_count": 9,
      "outputs": [
        {
          "output_type": "execute_result",
          "data": {
            "text/plain": [
              "0.0    665576\n",
              "1.0    141849\n",
              "Name: MIS_Status, dtype: int64"
            ]
          },
          "metadata": {},
          "execution_count": 9
        }
      ]
    },
    {
      "cell_type": "code",
      "source": [
        "# print(f'before: {processed_data['RevLineCr'].value_counts()}')\n",
        "for replace_cat in ['1', 'R', '`', '2', 'C', 'Q', '-', '.', '7', '5', 'C', 'Q','.','7','5','3','A' ]:\n",
        "  processed_data['RevLineCr'] = processed_data['RevLineCr'].replace(replace_cat, 'unknown')\n",
        "processed_data['RevLineCr'].value_counts()"
      ],
      "metadata": {
        "id": "0VN0Jlns7nbI",
        "outputId": "4a12876c-d940-4fbf-e4e1-17c96d9c8e65",
        "colab": {
          "base_uri": "https://localhost:8080/"
        }
      },
      "id": "0VN0Jlns7nbI",
      "execution_count": 10,
      "outputs": [
        {
          "output_type": "execute_result",
          "data": {
            "text/plain": [
              "N          377487\n",
              "0          231812\n",
              "Y          180329\n",
              "T           13653\n",
              "unknown      4144\n",
              "Name: RevLineCr, dtype: int64"
            ]
          },
          "metadata": {},
          "execution_count": 10
        }
      ]
    },
    {
      "cell_type": "code",
      "source": [
        "processed_data.info()"
      ],
      "metadata": {
        "id": "7Ybqm9Oo_5MH",
        "outputId": "9c36f8ab-0534-4dd2-9dd7-da10c8b4dc2b",
        "colab": {
          "base_uri": "https://localhost:8080/"
        }
      },
      "id": "7Ybqm9Oo_5MH",
      "execution_count": null,
      "outputs": [
        {
          "output_type": "stream",
          "name": "stdout",
          "text": [
            "<class 'pandas.core.frame.DataFrame'>\n",
            "RangeIndex: 809247 entries, 0 to 809246\n",
            "Data columns (total 20 columns):\n",
            " #   Column             Non-Null Count   Dtype   \n",
            "---  ------             --------------   -----   \n",
            " 0   City               809247 non-null  category\n",
            " 1   State              809247 non-null  category\n",
            " 2   Zip                809247 non-null  int64   \n",
            " 3   Bank               809247 non-null  category\n",
            " 4   BankState          809247 non-null  category\n",
            " 5   NAICS              809247 non-null  int64   \n",
            " 6   Term               809247 non-null  int64   \n",
            " 7   NoEmp              809247 non-null  int64   \n",
            " 8   NewExist           809247 non-null  float64 \n",
            " 9   CreateJob          809247 non-null  int64   \n",
            " 10  RetainedJob        809247 non-null  int64   \n",
            " 11  FranchiseCode      809247 non-null  int64   \n",
            " 12  UrbanRural         809247 non-null  int64   \n",
            " 13  RevLineCr          809247 non-null  category\n",
            " 14  LowDoc             809247 non-null  category\n",
            " 15  DisbursementGross  809247 non-null  float64 \n",
            " 16  BalanceGross       809247 non-null  float64 \n",
            " 17  GrAppv             809247 non-null  float64 \n",
            " 18  SBA_Appv           809247 non-null  float64 \n",
            " 19  MIS_Status         809247 non-null  float64 \n",
            "dtypes: category(6), float64(6), int64(8)\n",
            "memory usage: 94.0 MB\n"
          ]
        }
      ]
    },
    {
      "cell_type": "markdown",
      "id": "b7f21dcf",
      "metadata": {
        "id": "b7f21dcf"
      },
      "source": [
        "## Categorical and numerical variables encoding\n",
        "\n",
        "Encode categorical variables using either one of the techniques below. Don't use LabelEncoder.\n",
        "- One-hot-encoder for variables with less than 10 valid values. Name your new columns \"Original_name\"_valid_value\n",
        "- Target encoder from the following library: https://contrib.scikit-learn.org/category_encoders/index.html . Name your new column \"Original_name\"_trg\n",
        "- WOE encoder from the following library: https://contrib.scikit-learn.org/category_encoders/index.html . Name your new column \"Original_name\"_woe\n",
        "\n",
        "\n",
        "WOE encoder can be used with numerical variables too. \n",
        "\n",
        "\n",
        "Example of use for target encoder:\n",
        "```\n",
        "import category_encoders as ce\n",
        "\n",
        "encoder = ce.TargetEncoder(cols=[...])\n",
        "\n",
        "encoder.fit(X, y)\n",
        "X_cleaned = encoder.transform(X_dirty)\n",
        "```"
      ]
    },
    {
      "cell_type": "code",
      "source": [
        "s_processed_data = processed_data.sample(frac=0.01, random_state=42)\n",
        "s_processed_data\n",
        "print(s_processed_data.shape)"
      ],
      "metadata": {
        "id": "2ZiIsG0dMK6Y",
        "outputId": "b430bf61-c363-496a-9773-3e329741d134",
        "colab": {
          "base_uri": "https://localhost:8080/"
        }
      },
      "id": "2ZiIsG0dMK6Y",
      "execution_count": 12,
      "outputs": [
        {
          "output_type": "stream",
          "name": "stdout",
          "text": [
            "[['PROVIDENCE' 'RI' 2906 ... 0.0 40000.0 20000.0]\n",
            " ['FRESNO' 'CA' 93701 ... 0.0 100000.0 85000.0]\n",
            " ['PINELLAS PARK' 'FL' 33781 ... 0.0 35000.0 17500.0]\n",
            " ...\n",
            " ['WILLISTON' 'ND' 58801 ... 0.0 70000.0 59500.0]\n",
            " ['ROSWELL' 'GA' 30076 ... 0.0 120000.0 108000.0]\n",
            " ['LAFAYETTE' 'CA' 94549 ... 0.0 382400.0 286800.0]]\n",
            "[0. 0. 1. ... 0. 0. 0.]\n",
            "(8074, 20)\n"
          ]
        }
      ]
    },
    {
      "cell_type": "code",
      "execution_count": 49,
      "id": "4fef1d2e",
      "metadata": {
        "id": "4fef1d2e",
        "outputId": "c47e066f-854d-498d-9f17-e578b0ef3358",
        "colab": {
          "base_uri": "https://localhost:8080/"
        }
      },
      "outputs": [
        {
          "output_type": "execute_result",
          "data": {
            "text/plain": [
              "Term                      84.0\n",
              "NoEmp                      2.0\n",
              "CreateJob                  1.0\n",
              "RetainedJob                0.0\n",
              "DisbursementGross      65341.0\n",
              "                        ...   \n",
              "FranchiseCode_90979        0.0\n",
              "FranchiseCode_91297        0.0\n",
              "UrbanRural_0               0.0\n",
              "UrbanRural_1               1.0\n",
              "UrbanRural_2               0.0\n",
              "Name: 358619, Length: 43638, dtype: float64"
            ]
          },
          "metadata": {},
          "execution_count": 49
        }
      ],
      "source": [
        "from sklearn.compose import ColumnTransformer\n",
        "from sklearn.preprocessing import OneHotEncoder\n",
        "import numpy as np\n",
        "# ct = ColumnTransformer(transformers=[('encoder', OneHotEncoder(), [0])], remainder='passthrough')\n",
        "# X_transformed = np.array(ct.fit_transform(X))\n",
        "encoded_data = pd.get_dummies(s_processed_data, columns=['City', 'State', 'Bank', 'BankState', 'RevLineCr', 'LowDoc', 'Zip', 'MIS_Status', 'NAICS', 'NewExist', 'FranchiseCode', 'UrbanRural'])\n",
        "encoded_data.iloc[0]"
      ]
    },
    {
      "cell_type": "code",
      "source": [
        "encoded_data.dtypes"
      ],
      "metadata": {
        "id": "ZK-sYhYJMgW6",
        "outputId": "341aff06-233b-4331-b0a6-cece0ad4b977",
        "colab": {
          "base_uri": "https://localhost:8080/"
        }
      },
      "id": "ZK-sYhYJMgW6",
      "execution_count": 50,
      "outputs": [
        {
          "output_type": "execute_result",
          "data": {
            "text/plain": [
              "Term                     int64\n",
              "NoEmp                    int64\n",
              "CreateJob                int64\n",
              "RetainedJob              int64\n",
              "DisbursementGross      float64\n",
              "                        ...   \n",
              "FranchiseCode_90979      uint8\n",
              "FranchiseCode_91297      uint8\n",
              "UrbanRural_0             uint8\n",
              "UrbanRural_1             uint8\n",
              "UrbanRural_2             uint8\n",
              "Length: 43638, dtype: object"
            ]
          },
          "metadata": {},
          "execution_count": 50
        }
      ]
    },
    {
      "cell_type": "code",
      "source": [
        "from sklearn.model_selection import train_test_split\n",
        "X = encoded_data.iloc[:, :-1].values\n",
        "y = encoded_data.iloc[:, -1].values\n",
        "X_train, X_test, y_train, y_test = train_test_split(X, y, test_size=0.2, random_state=42)\n",
        "print(X)\n",
        "print(y)"
      ],
      "metadata": {
        "id": "DwREpI5SEtJw",
        "outputId": "5d789816-d39c-4a85-9e02-7f5e088fa9d2",
        "colab": {
          "base_uri": "https://localhost:8080/"
        }
      },
      "id": "DwREpI5SEtJw",
      "execution_count": 51,
      "outputs": [
        {
          "output_type": "stream",
          "name": "stdout",
          "text": [
            "[[ 84.   2.   1. ...   0.   0.   1.]\n",
            " [120.   1.   0. ...   0.   0.   1.]\n",
            " [ 55.   4.   0. ...   0.   0.   1.]\n",
            " ...\n",
            " [ 72.  14.   0. ...   0.   1.   0.]\n",
            " [300.   6.   0. ...   0.   1.   0.]\n",
            " [300.   4.   0. ...   0.   1.   0.]]\n",
            "[0 0 0 ... 0 0 0]\n"
          ]
        }
      ]
    },
    {
      "cell_type": "markdown",
      "id": "7bb0bfa4",
      "metadata": {
        "id": "7bb0bfa4"
      },
      "source": [
        "# Model Training\n",
        "\n",
        "See Project summary for types of models"
      ]
    },
    {
      "cell_type": "code",
      "execution_count": 52,
      "id": "265acf5d",
      "metadata": {
        "id": "265acf5d",
        "outputId": "2ed92ee8-880c-418b-8f65-046f626fdd99",
        "colab": {
          "base_uri": "https://localhost:8080/"
        }
      },
      "outputs": [
        {
          "output_type": "stream",
          "name": "stdout",
          "text": [
            "Accuracy: 0.8804953560371517\n"
          ]
        }
      ],
      "source": [
        "from sklearn.linear_model import LogisticRegression\n",
        "from sklearn.metrics import accuracy_score\n",
        "model = LogisticRegression()\n",
        "model.fit(X_train, y_train)\n",
        "y_pred = model.predict(X_test)\n",
        "\n",
        "# evaluate the accuracy of the model\n",
        "accuracy = accuracy_score(y_test, y_pred)\n",
        "print(f\"Accuracy: {accuracy}\")"
      ]
    },
    {
      "cell_type": "markdown",
      "id": "ced690c6",
      "metadata": {
        "id": "ced690c6"
      },
      "source": [
        "## Model Tuning\n",
        "\n",
        "Choose one model from the above list. You should provide reasoning on why you have picked the model over others. Perform tuning for the selected model:\n",
        "- Hyper-parameter tuning. Your hyper-parameter search space should have at least 50 combinations.\n",
        "- To avoid overfitting and provide you with reasonable estimate of model performance on hold-out dataset, you will need to split your dataset as following:\n",
        "    - Train, will be used to train model\n",
        "    - Validation, will be used to validate model each round of training\n",
        "    - Testing, will be used to provide final performance metrics, used only once on the final model\n",
        "- Feature engineering. See project description\n",
        "\n",
        "**Selelct final model that produces best performance on the Test dataset.**\n",
        "- For the best model, calculate probability threshold to maximize F1. "
      ]
    },
    {
      "cell_type": "code",
      "execution_count": null,
      "id": "674ab5b8",
      "metadata": {
        "id": "674ab5b8"
      },
      "outputs": [],
      "source": []
    },
    {
      "cell_type": "markdown",
      "id": "30bc381c",
      "metadata": {
        "id": "30bc381c"
      },
      "source": [
        "## Save all artifacts\n",
        "\n",
        "Save all artifacts needed for scoring function:\n",
        "- Trained model\n",
        "- Encoders\n",
        "- Any other arficats you will need for scoring\n",
        "\n",
        "**You should stop your notebook here. Scoring function should be in a separate file/notebook.**"
      ]
    },
    {
      "cell_type": "markdown",
      "id": "b556b0fe",
      "metadata": {
        "id": "b556b0fe"
      },
      "source": [
        "## Stop Here. Create new file/notebook"
      ]
    },
    {
      "cell_type": "markdown",
      "id": "21ded0cd",
      "metadata": {
        "id": "21ded0cd"
      },
      "source": [
        "## =============================================="
      ]
    },
    {
      "cell_type": "code",
      "execution_count": null,
      "id": "b7c327c4",
      "metadata": {
        "id": "b7c327c4"
      },
      "outputs": [],
      "source": []
    },
    {
      "cell_type": "code",
      "execution_count": null,
      "id": "213f71c6",
      "metadata": {
        "id": "213f71c6"
      },
      "outputs": [],
      "source": []
    },
    {
      "cell_type": "markdown",
      "id": "a0d2e830",
      "metadata": {
        "id": "a0d2e830"
      },
      "source": [
        "## Model Scoring\n",
        "\n",
        "Write function that will load artifacts from above, transform and score on a new dataset.\n",
        "Your function should return Python list of labels. For example: [0,1,0,1,1,0,0]\n"
      ]
    },
    {
      "cell_type": "code",
      "execution_count": null,
      "id": "ae1929ab",
      "metadata": {
        "id": "ae1929ab"
      },
      "outputs": [],
      "source": [
        "def project_1_scoring(data):\n",
        "    \"\"\"\n",
        "    Function to score input dataset.\n",
        "    \n",
        "    Input: dataset in Pandas DataFrame format\n",
        "    Output: Python list of labels in the same order as input records\n",
        "    \n",
        "    Flow:\n",
        "        - Load artifacts\n",
        "        - Transform dataset\n",
        "        - Score dataset\n",
        "        - Return pandas DF with following columns:\n",
        "            - index\n",
        "            - label\n",
        "            - probability_0\n",
        "            - probability_1\n",
        "    \"\"\"\n",
        "    pass"
      ]
    },
    {
      "cell_type": "code",
      "execution_count": null,
      "id": "3cc128b9",
      "metadata": {
        "id": "3cc128b9"
      },
      "outputs": [],
      "source": []
    },
    {
      "cell_type": "markdown",
      "id": "16157e5c",
      "metadata": {
        "id": "16157e5c"
      },
      "source": [
        "### Example of Scoring function\n",
        "\n",
        "Don't copy the code as is. It is provided as an example only. \n",
        "- Function `train_model` - you need to focus on model and artifacts saving:\n",
        "    ```\n",
        "    pickle.dump(obj=artifacts_dict, file=artifacts_dict_file)\n",
        "    ```\n",
        "- Function `project_1_scoring` - you should have similar function with name `project_1_scoring`. The function will:\n",
        "    - Get Pandas dataframe as parameter\n",
        "    - Will load model and all needed encoders\n",
        "    - Will perform needed manipulations on the input Pandas DF - in the exact same format as input file for the project, minus MIS_Status feature\n",
        "    - Return Pandas DataFrame\n",
        "        - record index\n",
        "        - predicted class for threshold maximizing F1\n",
        "        - probability for class 0 (PIF)\n",
        "        - probability for class 1 (CHGOFF)\n"
      ]
    },
    {
      "cell_type": "code",
      "execution_count": null,
      "id": "2b37c9dd",
      "metadata": {
        "id": "2b37c9dd"
      },
      "outputs": [],
      "source": [
        "\"\"\"\n",
        "Don't copy of use the cell code in any way!!!\n",
        "The code is provided as an example of generating artifacts for scoring function\n",
        "Your scoring function code should not have model training part!!!!\n",
        "\"\"\"\n",
        "import pandas as pd\n",
        "import numpy as np\n",
        "def train_model(data):\n",
        "    \"\"\"\n",
        "    Train sample model and save artifacts\n",
        "    \"\"\"\n",
        "    from sklearn.preprocessing import OneHotEncoder\n",
        "    from copy import deepcopy\n",
        "    from sklearn.linear_model import LogisticRegression\n",
        "    import pickle\n",
        "    from sklearn.impute import SimpleImputer\n",
        "    \n",
        "    target_col = \"Survived\"\n",
        "    cols_to_drop = ['Name', 'Ticket', 'Cabin','SibSp', 'Parch', 'Sex','Embarked','PassengerId','Survived']\n",
        "    y = data[target_col]\n",
        "    X = data.drop(columns=[target_col])\n",
        "    \n",
        "    # Impute Embarked\n",
        "    X['Embarked'].replace(np.NaN, 'S',inplace = True)\n",
        "    \n",
        "    # Create new feature\n",
        "    X['FamilySize'] = X['SibSp'] + X['Parch']\n",
        "    \n",
        "    # Mean impute Age\n",
        "    imp_age_mean = SimpleImputer(missing_values=np.nan, strategy='mean')\n",
        "    imp_age_mean.fit(X[['Age']])\n",
        "    X['Age'] = imp_age_mean.transform(X[['Age']])\n",
        "\n",
        "\n",
        "    ohe_orig_columns = [\"Embarked\",\"Sex\"]\n",
        "    cat_encoders = {}\n",
        "    for col in ohe_orig_columns:\n",
        "        enc = OneHotEncoder(handle_unknown='ignore', sparse_output=False)\n",
        "        enc.fit(X[[col]])\n",
        "        result = enc.transform(X[[col]])\n",
        "        ohe_columns = [col+\"_\"+str(x) for x in enc.categories_[0]]\n",
        "        result_train = pd.DataFrame(result, columns=ohe_columns)\n",
        "        X= pd.concat([X, result_train], axis=1)\n",
        "        cat_encoders[col] = [deepcopy(enc),\"ohe\"]\n",
        "        \n",
        "    clf = LogisticRegression(max_iter=1000, random_state=0)\n",
        "    \n",
        "    columns_to_train = [x for x in X.columns if x not in cols_to_drop]\n",
        "    clf.fit(X[columns_to_train], y)\n",
        "    \n",
        "    # Todo: Add code to calculate optimal threshold. Replace 0.5 !!!!!\n",
        "    threshold = 0.5\n",
        "    # End Todo\n",
        "    \n",
        "    artifacts_dict = {\n",
        "        \"model\": clf,\n",
        "        \"cat_encoders\": cat_encoders,\n",
        "        \"imp_age_mean\": imp_age_mean,\n",
        "        \"ohe_columns\": ohe_orig_columns,\n",
        "        \"columns_to_train\":columns_to_train,\n",
        "        \"threshold\": threshold\n",
        "    }\n",
        "    artifacts_dict_file = open(\"./artifacts/artifacts_dict_file.pkl\", \"wb\")\n",
        "    pickle.dump(obj=artifacts_dict, file=artifacts_dict_file)\n",
        "    \n",
        "    artifacts_dict_file.close()    \n",
        "    return clf"
      ]
    },
    {
      "cell_type": "code",
      "execution_count": null,
      "id": "719dcec9",
      "metadata": {
        "id": "719dcec9",
        "outputId": "93c2dcbc-dc7d-484f-9cac-f3ee7757ca51"
      },
      "outputs": [
        {
          "data": {
            "text/html": [
              "<style>#sk-container-id-1 {color: black;background-color: white;}#sk-container-id-1 pre{padding: 0;}#sk-container-id-1 div.sk-toggleable {background-color: white;}#sk-container-id-1 label.sk-toggleable__label {cursor: pointer;display: block;width: 100%;margin-bottom: 0;padding: 0.3em;box-sizing: border-box;text-align: center;}#sk-container-id-1 label.sk-toggleable__label-arrow:before {content: \"▸\";float: left;margin-right: 0.25em;color: #696969;}#sk-container-id-1 label.sk-toggleable__label-arrow:hover:before {color: black;}#sk-container-id-1 div.sk-estimator:hover label.sk-toggleable__label-arrow:before {color: black;}#sk-container-id-1 div.sk-toggleable__content {max-height: 0;max-width: 0;overflow: hidden;text-align: left;background-color: #f0f8ff;}#sk-container-id-1 div.sk-toggleable__content pre {margin: 0.2em;color: black;border-radius: 0.25em;background-color: #f0f8ff;}#sk-container-id-1 input.sk-toggleable__control:checked~div.sk-toggleable__content {max-height: 200px;max-width: 100%;overflow: auto;}#sk-container-id-1 input.sk-toggleable__control:checked~label.sk-toggleable__label-arrow:before {content: \"▾\";}#sk-container-id-1 div.sk-estimator input.sk-toggleable__control:checked~label.sk-toggleable__label {background-color: #d4ebff;}#sk-container-id-1 div.sk-label input.sk-toggleable__control:checked~label.sk-toggleable__label {background-color: #d4ebff;}#sk-container-id-1 input.sk-hidden--visually {border: 0;clip: rect(1px 1px 1px 1px);clip: rect(1px, 1px, 1px, 1px);height: 1px;margin: -1px;overflow: hidden;padding: 0;position: absolute;width: 1px;}#sk-container-id-1 div.sk-estimator {font-family: monospace;background-color: #f0f8ff;border: 1px dotted black;border-radius: 0.25em;box-sizing: border-box;margin-bottom: 0.5em;}#sk-container-id-1 div.sk-estimator:hover {background-color: #d4ebff;}#sk-container-id-1 div.sk-parallel-item::after {content: \"\";width: 100%;border-bottom: 1px solid gray;flex-grow: 1;}#sk-container-id-1 div.sk-label:hover label.sk-toggleable__label {background-color: #d4ebff;}#sk-container-id-1 div.sk-serial::before {content: \"\";position: absolute;border-left: 1px solid gray;box-sizing: border-box;top: 0;bottom: 0;left: 50%;z-index: 0;}#sk-container-id-1 div.sk-serial {display: flex;flex-direction: column;align-items: center;background-color: white;padding-right: 0.2em;padding-left: 0.2em;position: relative;}#sk-container-id-1 div.sk-item {position: relative;z-index: 1;}#sk-container-id-1 div.sk-parallel {display: flex;align-items: stretch;justify-content: center;background-color: white;position: relative;}#sk-container-id-1 div.sk-item::before, #sk-container-id-1 div.sk-parallel-item::before {content: \"\";position: absolute;border-left: 1px solid gray;box-sizing: border-box;top: 0;bottom: 0;left: 50%;z-index: -1;}#sk-container-id-1 div.sk-parallel-item {display: flex;flex-direction: column;z-index: 1;position: relative;background-color: white;}#sk-container-id-1 div.sk-parallel-item:first-child::after {align-self: flex-end;width: 50%;}#sk-container-id-1 div.sk-parallel-item:last-child::after {align-self: flex-start;width: 50%;}#sk-container-id-1 div.sk-parallel-item:only-child::after {width: 0;}#sk-container-id-1 div.sk-dashed-wrapped {border: 1px dashed gray;margin: 0 0.4em 0.5em 0.4em;box-sizing: border-box;padding-bottom: 0.4em;background-color: white;}#sk-container-id-1 div.sk-label label {font-family: monospace;font-weight: bold;display: inline-block;line-height: 1.2em;}#sk-container-id-1 div.sk-label-container {text-align: center;}#sk-container-id-1 div.sk-container {/* jupyter's `normalize.less` sets `[hidden] { display: none; }` but bootstrap.min.css set `[hidden] { display: none !important; }` so we also need the `!important` here to be able to override the default hidden behavior on the sphinx rendered scikit-learn.org. See: https://github.com/scikit-learn/scikit-learn/issues/21755 */display: inline-block !important;position: relative;}#sk-container-id-1 div.sk-text-repr-fallback {display: none;}</style><div id=\"sk-container-id-1\" class=\"sk-top-container\"><div class=\"sk-text-repr-fallback\"><pre>LogisticRegression(max_iter=1000, random_state=0)</pre><b>In a Jupyter environment, please rerun this cell to show the HTML representation or trust the notebook. <br />On GitHub, the HTML representation is unable to render, please try loading this page with nbviewer.org.</b></div><div class=\"sk-container\" hidden><div class=\"sk-item\"><div class=\"sk-estimator sk-toggleable\"><input class=\"sk-toggleable__control sk-hidden--visually\" id=\"sk-estimator-id-1\" type=\"checkbox\" checked><label for=\"sk-estimator-id-1\" class=\"sk-toggleable__label sk-toggleable__label-arrow\">LogisticRegression</label><div class=\"sk-toggleable__content\"><pre>LogisticRegression(max_iter=1000, random_state=0)</pre></div></div></div></div></div>"
            ],
            "text/plain": [
              "LogisticRegression(max_iter=1000, random_state=0)"
            ]
          },
          "execution_count": 8,
          "metadata": {},
          "output_type": "execute_result"
        }
      ],
      "source": [
        "df_train = pd.read_csv('titanic.csv')\n",
        "train_model(df_train)"
      ]
    },
    {
      "cell_type": "markdown",
      "id": "aa88cb35",
      "metadata": {
        "id": "aa88cb35"
      },
      "source": [
        "### Example scoring function\n",
        "\n",
        "This is example only. Don't copy code as is!!!   \n",
        "You must place scoring function in a separate Python file or Jupyter notebook.   \n",
        "\n",
        "**Don't place function in the same notebook as rest of the code**"
      ]
    },
    {
      "cell_type": "code",
      "execution_count": null,
      "id": "46d3d7f8",
      "metadata": {
        "id": "46d3d7f8"
      },
      "outputs": [],
      "source": [
        "def project_1_scoring(data):\n",
        "    \"\"\"\n",
        "    Function to score input dataset.\n",
        "    \n",
        "    Input: dataset in Pandas DataFrame format\n",
        "    Output: Python list of labels in the same order as input records\n",
        "    \n",
        "    Flow:\n",
        "        - Load artifacts\n",
        "        - Transform dataset\n",
        "        - Score dataset\n",
        "        - Return labels\n",
        "    \n",
        "    \"\"\"\n",
        "    from sklearn.preprocessing import OneHotEncoder\n",
        "    from copy import deepcopy\n",
        "    from sklearn.linear_model import LogisticRegression\n",
        "    import pickle\n",
        "    \n",
        "    X = data.copy()\n",
        "    \n",
        "    '''Load Artifacts'''\n",
        "    artifacts_dict_file = open(\"./artifacts/artifacts_dict_file.pkl\", \"rb\")\n",
        "    artifacts_dict = pickle.load(file=artifacts_dict_file)\n",
        "    artifacts_dict_file.close()\n",
        "    \n",
        "    clf = artifacts_dict[\"model\"]\n",
        "    cat_encoders = artifacts_dict[\"cat_encoders\"]\n",
        "    imp_age_mean = artifacts_dict[\"imp_age_mean\"]\n",
        "    ohe_columns = artifacts_dict[\"ohe_columns\"]\n",
        "    columns_to_score = artifacts_dict[\"columns_to_train\"]\n",
        "    threshold = artifacts_dict[\"threshold\"]\n",
        "    \n",
        "    # Impute Embarked\n",
        "    X['Embarked'].replace(np.NaN, 'S',inplace = True)\n",
        "    \n",
        "    # Create new feature\n",
        "    X['FamilySize'] = X['SibSp'] + X['Parch']\n",
        "    \n",
        "    # Mean impute Age\n",
        "    X['Age'] = imp_age_mean.transform(X[['Age']])\n",
        "    \n",
        "    '''Encode categorical columns'''\n",
        "    for col in ohe_columns:\n",
        "        enc = cat_encoders[col][0]\n",
        "        result = enc.transform(X[[col]])\n",
        "        ohe_columns = [col+\"_\"+str(x) for x in enc.categories_[0]]\n",
        "        result_train = pd.DataFrame(result, columns=ohe_columns)\n",
        "        X = pd.concat([X, result_train], axis=1)\n",
        "        \n",
        "    y_pred_proba = clf.predict_proba(X[columns_to_score])\n",
        "    y_pred = (y_pred_proba[:,0] < threshold).astype(np.int16)\n",
        "    d = {\"index\":data[\"PassengerId\"],\n",
        "         \"label\":y_pred,\n",
        "         \"probability_0\":y_pred_proba[:,0],\n",
        "         \"probability_1\":y_pred_proba[:,1]}\n",
        "    \n",
        "    return pd.DataFrame(d)"
      ]
    },
    {
      "cell_type": "code",
      "execution_count": null,
      "id": "fd9dbc26",
      "metadata": {
        "id": "fd9dbc26",
        "outputId": "91e6d2f5-1502-475b-af52-2837566f52df"
      },
      "outputs": [
        {
          "data": {
            "text/html": [
              "<div>\n",
              "<style scoped>\n",
              "    .dataframe tbody tr th:only-of-type {\n",
              "        vertical-align: middle;\n",
              "    }\n",
              "\n",
              "    .dataframe tbody tr th {\n",
              "        vertical-align: top;\n",
              "    }\n",
              "\n",
              "    .dataframe thead th {\n",
              "        text-align: right;\n",
              "    }\n",
              "</style>\n",
              "<table border=\"1\" class=\"dataframe\">\n",
              "  <thead>\n",
              "    <tr style=\"text-align: right;\">\n",
              "      <th></th>\n",
              "      <th>index</th>\n",
              "      <th>label</th>\n",
              "      <th>probability_0</th>\n",
              "      <th>probability_1</th>\n",
              "    </tr>\n",
              "  </thead>\n",
              "  <tbody>\n",
              "    <tr>\n",
              "      <th>0</th>\n",
              "      <td>1</td>\n",
              "      <td>0</td>\n",
              "      <td>0.901298</td>\n",
              "      <td>0.098702</td>\n",
              "    </tr>\n",
              "    <tr>\n",
              "      <th>1</th>\n",
              "      <td>2</td>\n",
              "      <td>1</td>\n",
              "      <td>0.071879</td>\n",
              "      <td>0.928121</td>\n",
              "    </tr>\n",
              "    <tr>\n",
              "      <th>2</th>\n",
              "      <td>3</td>\n",
              "      <td>1</td>\n",
              "      <td>0.367665</td>\n",
              "      <td>0.632335</td>\n",
              "    </tr>\n",
              "    <tr>\n",
              "      <th>3</th>\n",
              "      <td>4</td>\n",
              "      <td>1</td>\n",
              "      <td>0.098564</td>\n",
              "      <td>0.901436</td>\n",
              "    </tr>\n",
              "    <tr>\n",
              "      <th>4</th>\n",
              "      <td>5</td>\n",
              "      <td>0</td>\n",
              "      <td>0.923460</td>\n",
              "      <td>0.076540</td>\n",
              "    </tr>\n",
              "  </tbody>\n",
              "</table>\n",
              "</div>"
            ],
            "text/plain": [
              "   index  label  probability_0  probability_1\n",
              "0      1      0       0.901298       0.098702\n",
              "1      2      1       0.071879       0.928121\n",
              "2      3      1       0.367665       0.632335\n",
              "3      4      1       0.098564       0.901436\n",
              "4      5      0       0.923460       0.076540"
            ]
          },
          "execution_count": 10,
          "metadata": {},
          "output_type": "execute_result"
        }
      ],
      "source": [
        "project_1_scoring(df_train).head()"
      ]
    }
  ],
  "metadata": {
    "kernelspec": {
      "display_name": "Python 3 (ipykernel)",
      "language": "python",
      "name": "python3"
    },
    "language_info": {
      "codemirror_mode": {
        "name": "ipython",
        "version": 3
      },
      "file_extension": ".py",
      "mimetype": "text/x-python",
      "name": "python",
      "nbconvert_exporter": "python",
      "pygments_lexer": "ipython3",
      "version": "3.10.0"
    },
    "colab": {
      "provenance": [],
      "include_colab_link": true
    }
  },
  "nbformat": 4,
  "nbformat_minor": 5
}