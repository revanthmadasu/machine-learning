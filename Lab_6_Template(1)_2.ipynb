{
  "cells": [
    {
      "cell_type": "markdown",
      "metadata": {
        "id": "view-in-github",
        "colab_type": "text"
      },
      "source": [
        "<a href=\"https://colab.research.google.com/github/revanthmadasu/machine-learning/blob/master/Lab_6_Template(1)_2.ipynb\" target=\"_parent\"><img src=\"https://colab.research.google.com/assets/colab-badge.svg\" alt=\"Open In Colab\"/></a>"
      ]
    },
    {
      "cell_type": "markdown",
      "id": "a3e6ed8c",
      "metadata": {
        "id": "a3e6ed8c"
      },
      "source": [
        "   # Lab 6 - Template"
      ]
    },
    {
      "cell_type": "markdown",
      "id": "d8f753a7",
      "metadata": {
        "id": "d8f753a7"
      },
      "source": [
        "The template is given as a starting point to help you get up to speed with loading file and understanding data.  \n",
        "Use the template and answer each question in the appropriate cell.\n",
        "\n",
        "Submit:\n",
        "- eLearning\n",
        "\n",
        "Naming: First-name_Last_name_ID_Lab_6.ipynb"
      ]
    },
    {
      "cell_type": "markdown",
      "id": "fe8379f5",
      "metadata": {
        "id": "fe8379f5"
      },
      "source": [
        "## Dataset description\n",
        "\n",
        "The dataset for Lab-6 is sample of the SBA dataset posted on Kaggle. \n",
        "\n",
        "The dataset is from the U.S. Small Business Administration (SBA)\n",
        "The U.S. SBA was founded in 1953 on the principle of promoting and assisting small enterprises in the U.S. credit market \n",
        "(SBA Overview and History, US Small Business Administration (2015)). Small businesses have been a primary source of job creation in the United States; therefore, fostering small business formation and growth has social benefits by creating job opportunities and reducing unemployment.\n",
        "There have been many success stories of start-ups receiving SBA loan guarantees such as FedEx and Apple Computer. \n",
        "However, there have also been stories of small businesses and/or start-ups that have defaulted on their SBA-guaranteed loans.\n",
        "\n",
        "More info on the original dataset: https://www.kaggle.com/mirbektoktogaraev/should-this-loan-be-approved-or-denied\n"
      ]
    },
    {
      "cell_type": "markdown",
      "id": "54cf3bbd",
      "metadata": {
        "id": "54cf3bbd"
      },
      "source": [
        "## Preparation\n",
        "\n",
        "Load same data into H2O-3 dataframe.  \n",
        "Describe imported dataframe."
      ]
    },
    {
      "cell_type": "code",
      "source": [
        "! apt-get install default-jre\n",
        "!java -version"
      ],
      "metadata": {
        "colab": {
          "base_uri": "https://localhost:8080/"
        },
        "id": "1n3mTGvWGsOf",
        "outputId": "80ec4041-86db-4a17-8e06-b3f996f9b200"
      },
      "id": "1n3mTGvWGsOf",
      "execution_count": 1,
      "outputs": [
        {
          "output_type": "stream",
          "name": "stdout",
          "text": [
            "Reading package lists... Done\n",
            "Building dependency tree       \n",
            "Reading state information... Done\n",
            "default-jre is already the newest version (2:1.11-72).\n",
            "default-jre set to manually installed.\n",
            "0 upgraded, 0 newly installed, 0 to remove and 22 not upgraded.\n",
            "openjdk version \"11.0.18\" 2023-01-17\n",
            "OpenJDK Runtime Environment (build 11.0.18+10-post-Ubuntu-0ubuntu120.04.1)\n",
            "OpenJDK 64-Bit Server VM (build 11.0.18+10-post-Ubuntu-0ubuntu120.04.1, mixed mode, sharing)\n"
          ]
        }
      ]
    },
    {
      "cell_type": "code",
      "source": [
        "! pip install h2o"
      ],
      "metadata": {
        "colab": {
          "base_uri": "https://localhost:8080/"
        },
        "id": "7o6nBWbzG-hB",
        "outputId": "481a38b7-b593-41b9-a4a3-e0c8d9b6512b"
      },
      "id": "7o6nBWbzG-hB",
      "execution_count": 2,
      "outputs": [
        {
          "output_type": "stream",
          "name": "stdout",
          "text": [
            "Looking in indexes: https://pypi.org/simple, https://us-python.pkg.dev/colab-wheels/public/simple/\n",
            "Collecting h2o\n",
            "  Downloading h2o-3.40.0.1-py2.py3-none-any.whl (177.7 MB)\n",
            "\u001b[2K     \u001b[90m━━━━━━━━━━━━━━━━━━━━━━━━━━━━━━━━━━━━━━━\u001b[0m \u001b[32m177.7/177.7 MB\u001b[0m \u001b[31m4.4 MB/s\u001b[0m eta \u001b[36m0:00:00\u001b[0m\n",
            "\u001b[?25hRequirement already satisfied: future in /usr/local/lib/python3.8/dist-packages (from h2o) (0.16.0)\n",
            "Requirement already satisfied: tabulate in /usr/local/lib/python3.8/dist-packages (from h2o) (0.8.10)\n",
            "Requirement already satisfied: requests in /usr/local/lib/python3.8/dist-packages (from h2o) (2.25.1)\n",
            "Requirement already satisfied: urllib3<1.27,>=1.21.1 in /usr/local/lib/python3.8/dist-packages (from requests->h2o) (1.26.14)\n",
            "Requirement already satisfied: certifi>=2017.4.17 in /usr/local/lib/python3.8/dist-packages (from requests->h2o) (2022.12.7)\n",
            "Requirement already satisfied: chardet<5,>=3.0.2 in /usr/local/lib/python3.8/dist-packages (from requests->h2o) (4.0.0)\n",
            "Requirement already satisfied: idna<3,>=2.5 in /usr/local/lib/python3.8/dist-packages (from requests->h2o) (2.10)\n",
            "Installing collected packages: h2o\n",
            "Successfully installed h2o-3.40.0.1\n"
          ]
        }
      ]
    },
    {
      "cell_type": "code",
      "execution_count": 3,
      "id": "d1164d44",
      "metadata": {
        "id": "d1164d44"
      },
      "outputs": [],
      "source": [
        "import h2o\n",
        "try:\n",
        "    h2o.cluster().shutdown()\n",
        "except:\n",
        "    pass "
      ]
    },
    {
      "cell_type": "code",
      "execution_count": 4,
      "id": "d4a568e3",
      "metadata": {
        "colab": {
          "base_uri": "https://localhost:8080/",
          "height": 535
        },
        "id": "d4a568e3",
        "outputId": "16d1a5cf-abfa-4fda-9752-deed165cce84"
      },
      "outputs": [
        {
          "output_type": "stream",
          "name": "stdout",
          "text": [
            "Checking whether there is an H2O instance running at http://localhost:54321..... not found.\n",
            "Attempting to start a local H2O server...\n",
            "  Java Version: openjdk version \"11.0.18\" 2023-01-17; OpenJDK Runtime Environment (build 11.0.18+10-post-Ubuntu-0ubuntu120.04.1); OpenJDK 64-Bit Server VM (build 11.0.18+10-post-Ubuntu-0ubuntu120.04.1, mixed mode, sharing)\n",
            "  Starting server from /usr/local/lib/python3.8/dist-packages/h2o/backend/bin/h2o.jar\n",
            "  Ice root: /tmp/tmpceomigsc\n",
            "  JVM stdout: /tmp/tmpceomigsc/h2o_unknownUser_started_from_python.out\n",
            "  JVM stderr: /tmp/tmpceomigsc/h2o_unknownUser_started_from_python.err\n",
            "  Server is running at http://127.0.0.1:54321\n",
            "Connecting to H2O server at http://127.0.0.1:54321 ... successful.\n"
          ]
        },
        {
          "output_type": "display_data",
          "data": {
            "text/plain": [
              "--------------------------  ----------------------------------\n",
              "H2O_cluster_uptime:         09 secs\n",
              "H2O_cluster_timezone:       Etc/UTC\n",
              "H2O_data_parsing_timezone:  UTC\n",
              "H2O_cluster_version:        3.40.0.1\n",
              "H2O_cluster_version_age:    23 days\n",
              "H2O_cluster_name:           H2O_from_python_unknownUser_5j66z5\n",
              "H2O_cluster_total_nodes:    1\n",
              "H2O_cluster_free_memory:    8 Gb\n",
              "H2O_cluster_total_cores:    2\n",
              "H2O_cluster_allowed_cores:  2\n",
              "H2O_cluster_status:         locked, healthy\n",
              "H2O_connection_url:         http://127.0.0.1:54321\n",
              "H2O_connection_proxy:       {\"http\": null, \"https\": null}\n",
              "H2O_internal_security:      False\n",
              "Python_version:             3.8.10 final\n",
              "--------------------------  ----------------------------------"
            ],
            "text/html": [
              "\n",
              "<style>\n",
              "\n",
              "#h2o-table-1.h2o-container {\n",
              "  overflow-x: auto;\n",
              "}\n",
              "#h2o-table-1 .h2o-table {\n",
              "  /* width: 100%; */\n",
              "  margin-top: 1em;\n",
              "  margin-bottom: 1em;\n",
              "}\n",
              "#h2o-table-1 .h2o-table caption {\n",
              "  white-space: nowrap;\n",
              "  caption-side: top;\n",
              "  text-align: left;\n",
              "  /* margin-left: 1em; */\n",
              "  margin: 0;\n",
              "  font-size: larger;\n",
              "}\n",
              "#h2o-table-1 .h2o-table thead {\n",
              "  white-space: nowrap; \n",
              "  position: sticky;\n",
              "  top: 0;\n",
              "  box-shadow: 0 -1px inset;\n",
              "}\n",
              "#h2o-table-1 .h2o-table tbody {\n",
              "  overflow: auto;\n",
              "}\n",
              "#h2o-table-1 .h2o-table th,\n",
              "#h2o-table-1 .h2o-table td {\n",
              "  text-align: right;\n",
              "  /* border: 1px solid; */\n",
              "}\n",
              "#h2o-table-1 .h2o-table tr:nth-child(even) {\n",
              "  /* background: #F5F5F5 */\n",
              "}\n",
              "\n",
              "</style>      \n",
              "<div id=\"h2o-table-1\" class=\"h2o-container\">\n",
              "  <table class=\"h2o-table\">\n",
              "    <caption></caption>\n",
              "    <thead></thead>\n",
              "    <tbody><tr><td>H2O_cluster_uptime:</td>\n",
              "<td>09 secs</td></tr>\n",
              "<tr><td>H2O_cluster_timezone:</td>\n",
              "<td>Etc/UTC</td></tr>\n",
              "<tr><td>H2O_data_parsing_timezone:</td>\n",
              "<td>UTC</td></tr>\n",
              "<tr><td>H2O_cluster_version:</td>\n",
              "<td>3.40.0.1</td></tr>\n",
              "<tr><td>H2O_cluster_version_age:</td>\n",
              "<td>23 days</td></tr>\n",
              "<tr><td>H2O_cluster_name:</td>\n",
              "<td>H2O_from_python_unknownUser_5j66z5</td></tr>\n",
              "<tr><td>H2O_cluster_total_nodes:</td>\n",
              "<td>1</td></tr>\n",
              "<tr><td>H2O_cluster_free_memory:</td>\n",
              "<td>8 Gb</td></tr>\n",
              "<tr><td>H2O_cluster_total_cores:</td>\n",
              "<td>2</td></tr>\n",
              "<tr><td>H2O_cluster_allowed_cores:</td>\n",
              "<td>2</td></tr>\n",
              "<tr><td>H2O_cluster_status:</td>\n",
              "<td>locked, healthy</td></tr>\n",
              "<tr><td>H2O_connection_url:</td>\n",
              "<td>http://127.0.0.1:54321</td></tr>\n",
              "<tr><td>H2O_connection_proxy:</td>\n",
              "<td>{\"http\": null, \"https\": null}</td></tr>\n",
              "<tr><td>H2O_internal_security:</td>\n",
              "<td>False</td></tr>\n",
              "<tr><td>Python_version:</td>\n",
              "<td>3.8.10 final</td></tr></tbody>\n",
              "  </table>\n",
              "</div>\n"
            ]
          },
          "metadata": {}
        }
      ],
      "source": [
        "# Adjust as per limits on your PC\n",
        "# Limit to 8 threads and 8GB memory\n",
        "h2o.init(nthreads=8, max_mem_size=8)"
      ]
    },
    {
      "cell_type": "code",
      "execution_count": 5,
      "id": "6dac19ef",
      "metadata": {
        "colab": {
          "base_uri": "https://localhost:8080/"
        },
        "id": "6dac19ef",
        "outputId": "62fba425-9147-4108-8ac4-27883e8f5444"
      },
      "outputs": [
        {
          "output_type": "stream",
          "name": "stdout",
          "text": [
            "Parse progress: |████████████████████████████████████████████████████████████████| (done) 100%\n"
          ]
        }
      ],
      "source": [
        "df_h = h2o.import_file('./data/SBA_loans_lab_6.zip')"
      ]
    },
    {
      "cell_type": "code",
      "source": [
        "print(df_h.columns)"
      ],
      "metadata": {
        "id": "RvIf1-yE0zlB"
      },
      "id": "RvIf1-yE0zlB",
      "execution_count": null,
      "outputs": []
    },
    {
      "cell_type": "code",
      "execution_count": null,
      "id": "5acd65e7",
      "metadata": {
        "scrolled": true,
        "id": "5acd65e7"
      },
      "outputs": [],
      "source": [
        "df_h.describe()"
      ]
    },
    {
      "cell_type": "markdown",
      "id": "e0cc15c7",
      "metadata": {
        "id": "e0cc15c7"
      },
      "source": [
        "### Set attributes for the categorical  variables - make non-numerical columns \"factor\" (categorical)\n",
        "\n",
        "We will be using H2O-3 DRF model. The model can handle categorical variable and missing values.  \n",
        "We will need to **mark** categorical variables with `asfactor` method"
      ]
    },
    {
      "cell_type": "code",
      "execution_count": 6,
      "id": "9326b2a1",
      "metadata": {
        "id": "9326b2a1"
      },
      "outputs": [],
      "source": [
        "# Choose which columns to encode\n",
        "cat_columns = [\"City\",\"State\",\"Bank\",\"BankState\", \"NewExist\", \"RevLineCr\",\"LowDoc\",\"Zip\"]\n",
        "encoded_columns = cat_columns\n",
        "response = \"Defaulted\"\n",
        "\n",
        "df_h[encoded_columns+[response]] = df_h[encoded_columns+[response]].asfactor()"
      ]
    },
    {
      "cell_type": "code",
      "source": [
        "df_h.describe()"
      ],
      "metadata": {
        "id": "YksxEOA42Xxy"
      },
      "id": "YksxEOA42Xxy",
      "execution_count": null,
      "outputs": []
    },
    {
      "cell_type": "markdown",
      "id": "3f3ea686",
      "metadata": {
        "id": "3f3ea686"
      },
      "source": [
        "## Split to train/test/validation"
      ]
    },
    {
      "cell_type": "code",
      "execution_count": 7,
      "id": "075319ca",
      "metadata": {
        "id": "075319ca"
      },
      "outputs": [],
      "source": [
        "train,test,valid = df_h.split_frame(ratios=[.7, .15], seed=123)"
      ]
    },
    {
      "cell_type": "code",
      "source": [
        "test"
      ],
      "metadata": {
        "id": "bQmekLbk20Sk"
      },
      "id": "bQmekLbk20Sk",
      "execution_count": null,
      "outputs": []
    },
    {
      "cell_type": "code",
      "source": [
        "train"
      ],
      "metadata": {
        "id": "P5JYuywY2uYr"
      },
      "id": "P5JYuywY2uYr",
      "execution_count": null,
      "outputs": []
    },
    {
      "cell_type": "code",
      "execution_count": null,
      "id": "f1a09c4b",
      "metadata": {
        "id": "f1a09c4b"
      },
      "outputs": [],
      "source": [
        "valid"
      ]
    },
    {
      "cell_type": "markdown",
      "id": "289ae474",
      "metadata": {
        "id": "289ae474"
      },
      "source": [
        "## Question 1 \n",
        "\n",
        "Use H2O-3 to train Distributed Random Forest model with default parameters.  \n",
        "Documentation: https://docs.h2o.ai/h2o/latest-stable/h2o-docs/data-science/drf.html#defining-a-drf-model\n",
        "\n",
        "The solution for the problem is provided.\n",
        "You need to understand the command and the output in order to proceed to the next question."
      ]
    },
    {
      "cell_type": "code",
      "source": [
        "print(train.columns)"
      ],
      "metadata": {
        "colab": {
          "base_uri": "https://localhost:8080/"
        },
        "id": "AO5jJ7Sw0crN",
        "outputId": "fe59491a-10f6-47fc-e0d7-5cf6ecbd18ab"
      },
      "id": "AO5jJ7Sw0crN",
      "execution_count": 11,
      "outputs": [
        {
          "output_type": "stream",
          "name": "stdout",
          "text": [
            "['City', 'State', 'Zip', 'Bank', 'BankState', 'NAICS', 'Term', 'NoEmp', 'NewExist', 'CreateJob', 'RetainedJob', 'FranchiseCode', 'UrbanRural', 'RevLineCr', 'LowDoc', 'DisbursementGross', 'BalanceGross', 'GrAppv', 'SBA_Appv', 'Defaulted']\n"
          ]
        }
      ]
    },
    {
      "cell_type": "code",
      "execution_count": 8,
      "id": "4c210271",
      "metadata": {
        "colab": {
          "base_uri": "https://localhost:8080/"
        },
        "id": "4c210271",
        "outputId": "a76f4094-bd5c-46c0-b110-21a00f966b70"
      },
      "outputs": [
        {
          "output_type": "stream",
          "name": "stdout",
          "text": [
            "Predictor columns: ['City', 'State', 'Zip', 'Bank', 'BankState', 'NAICS', 'Term', 'NoEmp', 'NewExist', 'CreateJob', 'RetainedJob', 'FranchiseCode', 'UrbanRural', 'RevLineCr', 'LowDoc', 'DisbursementGross', 'BalanceGross', 'GrAppv', 'SBA_Appv']\n",
            "drf Model Build progress: |██████████████████████████████████████████████████████| (done) 100%\n"
          ]
        }
      ],
      "source": [
        "from h2o.estimators import H2ORandomForestEstimator\n",
        "\n",
        "predictors = train.columns\n",
        "predictors.remove(\"Defaulted\")\n",
        "print(\"Predictor columns:\", predictors)    \n",
        "response_col = \"Defaulted\"\n",
        "\n",
        "drf = H2ORandomForestEstimator(nfolds=0,seed=123)\n",
        "\n",
        "drf.train(predictors, response_col, training_frame= train)\n",
        "model_summary = drf.summary()"
      ]
    },
    {
      "cell_type": "code",
      "execution_count": 46,
      "id": "e6310056",
      "metadata": {
        "colab": {
          "base_uri": "https://localhost:8080/",
          "height": 110
        },
        "id": "e6310056",
        "outputId": "1f634e13-8be4-43d3-854e-de71a44b4d3f"
      },
      "outputs": [
        {
          "output_type": "execute_result",
          "data": {
            "text/plain": [
              "Model Summary: \n",
              "    number_of_trees    number_of_internal_trees    model_size_in_bytes    min_depth    max_depth    mean_depth    min_leaves    max_leaves    mean_leaves\n",
              "--  -----------------  --------------------------  ---------------------  -----------  -----------  ------------  ------------  ------------  -------------\n",
              "    50                 50                          5.29338e+06            20           20           20            5725          7517          6730.1"
            ],
            "text/html": [
              "\n",
              "<style>\n",
              "\n",
              "#h2o-table-8.h2o-container {\n",
              "  overflow-x: auto;\n",
              "}\n",
              "#h2o-table-8 .h2o-table {\n",
              "  /* width: 100%; */\n",
              "  margin-top: 1em;\n",
              "  margin-bottom: 1em;\n",
              "}\n",
              "#h2o-table-8 .h2o-table caption {\n",
              "  white-space: nowrap;\n",
              "  caption-side: top;\n",
              "  text-align: left;\n",
              "  /* margin-left: 1em; */\n",
              "  margin: 0;\n",
              "  font-size: larger;\n",
              "}\n",
              "#h2o-table-8 .h2o-table thead {\n",
              "  white-space: nowrap; \n",
              "  position: sticky;\n",
              "  top: 0;\n",
              "  box-shadow: 0 -1px inset;\n",
              "}\n",
              "#h2o-table-8 .h2o-table tbody {\n",
              "  overflow: auto;\n",
              "}\n",
              "#h2o-table-8 .h2o-table th,\n",
              "#h2o-table-8 .h2o-table td {\n",
              "  text-align: right;\n",
              "  /* border: 1px solid; */\n",
              "}\n",
              "#h2o-table-8 .h2o-table tr:nth-child(even) {\n",
              "  /* background: #F5F5F5 */\n",
              "}\n",
              "\n",
              "</style>      \n",
              "<div id=\"h2o-table-8\" class=\"h2o-container\">\n",
              "  <table class=\"h2o-table\">\n",
              "    <caption>Model Summary: </caption>\n",
              "    <thead><tr><th></th>\n",
              "<th>number_of_trees</th>\n",
              "<th>number_of_internal_trees</th>\n",
              "<th>model_size_in_bytes</th>\n",
              "<th>min_depth</th>\n",
              "<th>max_depth</th>\n",
              "<th>mean_depth</th>\n",
              "<th>min_leaves</th>\n",
              "<th>max_leaves</th>\n",
              "<th>mean_leaves</th></tr></thead>\n",
              "    <tbody><tr><td></td>\n",
              "<td>50.0</td>\n",
              "<td>50.0</td>\n",
              "<td>5293375.0</td>\n",
              "<td>20.0</td>\n",
              "<td>20.0</td>\n",
              "<td>20.0</td>\n",
              "<td>5725.0</td>\n",
              "<td>7517.0</td>\n",
              "<td>6730.1</td></tr></tbody>\n",
              "  </table>\n",
              "</div>\n"
            ]
          },
          "metadata": {},
          "execution_count": 46
        }
      ],
      "source": [
        "model_summary"
      ]
    },
    {
      "cell_type": "markdown",
      "id": "f5a45a57",
      "metadata": {
        "id": "f5a45a57"
      },
      "source": [
        "### Model performance metrics on Test dataset\n",
        "\n",
        "Alternative method to calculate metrics is to use `h2o.make_metrics(pred, actual)` function:   \n",
        "https://docs.h2o.ai/h2o/latest-stable/h2o-docs/performance-and-prediction.html#computing-model-metrics-from-general-predictions"
      ]
    },
    {
      "cell_type": "code",
      "execution_count": 9,
      "id": "77747c48",
      "metadata": {
        "colab": {
          "base_uri": "https://localhost:8080/",
          "height": 254
        },
        "id": "77747c48",
        "outputId": "b09cb86f-f613-44c8-cb1e-36b85bd8a0cf"
      },
      "outputs": [
        {
          "output_type": "stream",
          "name": "stdout",
          "text": [
            "Best accuracy threshold: 0.4525676262615756 \n",
            "  Accuracy: 0.9347955611826916\n",
            "Best F1 threshold: 0.34488910898743635 \n",
            "  F1: 0.8054782794778516\n",
            "Model AUC: 0.956193485901203\n",
            "Model AUCPR: 0.8734735239591254\n"
          ]
        },
        {
          "output_type": "execute_result",
          "data": {
            "text/plain": [
              "Confusion Matrix (Act/Pred) for max f1 @ threshold = 0.34488910898743635\n",
              "       0      1     Error    Rate\n",
              "-----  -----  ----  -------  ----------------\n",
              "0      21272  871   0.0393   (871.0/22143.0)\n",
              "1      947    3764  0.201    (947.0/4711.0)\n",
              "Total  22219  4635  0.0677   (1818.0/26854.0)"
            ],
            "text/html": [
              "\n",
              "<style>\n",
              "\n",
              "#h2o-table-2.h2o-container {\n",
              "  overflow-x: auto;\n",
              "}\n",
              "#h2o-table-2 .h2o-table {\n",
              "  /* width: 100%; */\n",
              "  margin-top: 1em;\n",
              "  margin-bottom: 1em;\n",
              "}\n",
              "#h2o-table-2 .h2o-table caption {\n",
              "  white-space: nowrap;\n",
              "  caption-side: top;\n",
              "  text-align: left;\n",
              "  /* margin-left: 1em; */\n",
              "  margin: 0;\n",
              "  font-size: larger;\n",
              "}\n",
              "#h2o-table-2 .h2o-table thead {\n",
              "  white-space: nowrap; \n",
              "  position: sticky;\n",
              "  top: 0;\n",
              "  box-shadow: 0 -1px inset;\n",
              "}\n",
              "#h2o-table-2 .h2o-table tbody {\n",
              "  overflow: auto;\n",
              "}\n",
              "#h2o-table-2 .h2o-table th,\n",
              "#h2o-table-2 .h2o-table td {\n",
              "  text-align: right;\n",
              "  /* border: 1px solid; */\n",
              "}\n",
              "#h2o-table-2 .h2o-table tr:nth-child(even) {\n",
              "  /* background: #F5F5F5 */\n",
              "}\n",
              "\n",
              "</style>      \n",
              "<div id=\"h2o-table-2\" class=\"h2o-container\">\n",
              "  <table class=\"h2o-table\">\n",
              "    <caption>Confusion Matrix (Act/Pred) for max f1 @ threshold = 0.34488910898743635</caption>\n",
              "    <thead><tr><th></th>\n",
              "<th>0</th>\n",
              "<th>1</th>\n",
              "<th>Error</th>\n",
              "<th>Rate</th></tr></thead>\n",
              "    <tbody><tr><td>0</td>\n",
              "<td>21272.0</td>\n",
              "<td>871.0</td>\n",
              "<td>0.0393</td>\n",
              "<td> (871.0/22143.0)</td></tr>\n",
              "<tr><td>1</td>\n",
              "<td>947.0</td>\n",
              "<td>3764.0</td>\n",
              "<td>0.201</td>\n",
              "<td> (947.0/4711.0)</td></tr>\n",
              "<tr><td>Total</td>\n",
              "<td>22219.0</td>\n",
              "<td>4635.0</td>\n",
              "<td>0.0677</td>\n",
              "<td> (1818.0/26854.0)</td></tr></tbody>\n",
              "  </table>\n",
              "</div>\n"
            ]
          },
          "metadata": {},
          "execution_count": 9
        }
      ],
      "source": [
        "print(\"Best accuracy threshold:\",drf.model_performance(test).accuracy()[0][0],\"\\n\",\n",
        "      \" Accuracy:\",\n",
        "      drf.model_performance(test).accuracy()[0][1])\n",
        "print(\"Best F1 threshold:\",drf.model_performance(test).F1()[0][0],\"\\n\",\n",
        "      \" F1:\",\n",
        "      drf.model_performance(test).F1()[0][1])\n",
        "print(\"Model AUC:\", drf.model_performance(test).auc())\n",
        "print(\"Model AUCPR:\", drf.model_performance(test).aucpr())\n",
        "drf.model_performance(test).confusion_matrix()"
      ]
    },
    {
      "cell_type": "code",
      "execution_count": null,
      "id": "2e2ff85d",
      "metadata": {
        "id": "2e2ff85d"
      },
      "outputs": [],
      "source": [
        "from h2o import make_metrics as H2OMakeMetrics\n",
        "pred = drf.predict(test)[2]\n",
        "print(pred)\n",
        "actual = test[\"Defaulted\"]\n",
        "H2OMakeMetrics(pred, actual)\n"
      ]
    },
    {
      "cell_type": "markdown",
      "id": "4d63de5f",
      "metadata": {
        "id": "4d63de5f"
      },
      "source": [
        "## Question 2\n",
        "\n",
        "You are asked to tune the model from question #1. You should review full parameter list for the DRF model documentation: https://docs.h2o.ai/h2o/latest-stable/h2o-docs/data-science/drf.html#defining-a-drf-model\n",
        "\n",
        "Pay special attention to the following parameters:\n",
        "- balance_classes\n",
        "- ntrees\n",
        "- max_depth\n",
        "- early stopping params: stopping_rounds, stopping_metric, stopping_tolerance\n",
        "- mtries\n",
        "- sample_rate\n",
        "\n",
        "Alternative to search for the `ntrees` parameter is to set it to high number, and use early stopping to find optimal number of trees. (We will do it in the next question)\n",
        "\n",
        "Find best parameters using H2O GridSearch for the following search space.\n",
        "Modify the example code below as needed to make it work.  \n",
        "You can experiment with additional options/parameters to see if you can get a better model.\n",
        "```\n",
        "# DRF hyperparameters\n",
        "from h2o.grid.grid_search import H2OGridSearch\n",
        "\n",
        "# DRF hyperparameters\n",
        "drf_params2  = {'ntrees': [25,50,100],\n",
        "               'max_depth': [10,15,20,25]}\n",
        "\n",
        "# Train and validate a cartesian grid of DRFs\n",
        "drf_grid2  = H2OGridSearch(model=H2ORandomForestEstimator,\n",
        "                          grid_id='drf_grid2',\n",
        "                          hyper_params=drf_params2)\n",
        "\n",
        "drf_grid2.train(x=predictors,\n",
        "               y=response_col,\n",
        "               nfolds=0,\n",
        "               training_frame=train,\n",
        "               validation_frame=valid,\n",
        "               seed=123)\n",
        "```\n",
        "\n",
        "You can follow the progress of the Grid search job by using H2O Flow, the URL is shown right after `h2o.init()`.\n",
        "Answer following questions:\n",
        "- What is the best set of parameters for the DRF model using AUCPR metric?\n",
        "- What is the best model performance (AUCPR) on a validation dataset?\n",
        "- What is the best model performance (AUCPR) on a test dataset?\n",
        "- Produce Confusion Matrix using best F1 probability threshold"
      ]
    },
    {
      "cell_type": "code",
      "source": [
        "# DRF hyperparameters\n",
        "from h2o.grid.grid_search import H2OGridSearch\n",
        "\n",
        "# DRF hyperparameters\n",
        "# drf_params2  = {'ntrees': [25,50,75, 100],\n",
        "#                'max_depth': [15,20,25],\n",
        "#                'sample_rate': [i * 0.1 for i in range(5, 11)],\n",
        "#                'stopping_tolerance': [0, 0.003, 0.0005],\n",
        "#                'stopping_rounds': [0,3,5],\n",
        "#                'stopping_metric': ['misclassification', 'logless', 'custom'],\n",
        "#                'mtries': [-1, -2], \n",
        "#                'balance_classes': [True, False]}\n",
        "# drf_params2  = {'ntrees': [25,50,75, 100],\n",
        "#                'max_depth': [15,20,25],\n",
        "#                'sample_rate': [i * 0.1 for i in range(5, 7)],\n",
        "#                'stopping_tolerance': [0, 0.003, 0.0005],\n",
        "#                'stopping_rounds': [0,3,5],\n",
        "#                'stopping_metric': ['misclassification', 'logless', 'custom'],\n",
        "#                'mtries': [-1, -2], \n",
        "#                'balance_classes': [True, False]}\n",
        "drf_params3  = {'ntrees': [30],\n",
        "                'sample_rate': [0.5],\n",
        "                'stopping_tolerance': [0.003],\n",
        "                'stopping_rounds': [0],\n",
        "                'stopping_metric': ['logloss'],\n",
        "                'mtries': [-1], \n",
        "               'balance_classes': [True]}\n",
        "# Train and validate a cartesian grid of DRFs\n",
        "drf_grid3  = H2OGridSearch(model=H2ORandomForestEstimator,\n",
        "                          grid_id='drf_grid3',\n",
        "                          hyper_params=drf_params3)\n",
        "drf_grid3.train(x=predictors,\n",
        "               y=response_col,\n",
        "               nfolds=0,\n",
        "               training_frame=train,\n",
        "               validation_frame=valid,\n",
        "               seed=123)"
      ],
      "metadata": {
        "id": "b44F1DaU6tY_"
      },
      "id": "b44F1DaU6tY_",
      "execution_count": null,
      "outputs": []
    },
    {
      "cell_type": "code",
      "execution_count": null,
      "id": "f6b54991",
      "metadata": {
        "id": "f6b54991",
        "colab": {
          "base_uri": "https://localhost:8080/"
        },
        "outputId": "9774189e-5a15-466b-b2cd-5cdbe9a13366"
      },
      "outputs": [
        {
          "output_type": "stream",
          "name": "stdout",
          "text": [
            "drf Grid Build progress: |██"
          ]
        }
      ],
      "source": [
        "# DRF hyperparameters\n",
        "from h2o.grid.grid_search import H2OGridSearch\n",
        "\n",
        "# DRF hyperparameters\n",
        "# drf_params2  = {'ntrees': [25,50,75, 100],\n",
        "#                'max_depth': [15,20,25],\n",
        "#                'sample_rate': [i * 0.1 for i in range(5, 11)],\n",
        "#                'stopping_tolerance': [0, 0.003, 0.0005],\n",
        "#                'stopping_rounds': [0,3,5],\n",
        "#                'stopping_metric': ['misclassification', 'logless', 'custom'],\n",
        "#                'mtries': [-1, -2], \n",
        "#                'balance_classes': [True, False]}\n",
        "# drf_params2  = {'ntrees': [25,50,75, 100],\n",
        "#                'max_depth': [15,20,25],\n",
        "#                'sample_rate': [i * 0.1 for i in range(5, 7)],\n",
        "#                'stopping_tolerance': [0, 0.003, 0.0005],\n",
        "#                'stopping_rounds': [0,3,5],\n",
        "#                'stopping_metric': ['misclassification', 'logless', 'custom'],\n",
        "#                'mtries': [-1, -2], \n",
        "#                'balance_classes': [True, False]}\n",
        "drf_params2  = {'ntrees': [30,60],\n",
        "                'sample_rate': [0.5, 0.7],\n",
        "                'stopping_tolerance': [0, 0.003],\n",
        "                'stopping_rounds': [0,3],\n",
        "                'stopping_metric': ['logloss'],\n",
        "                'mtries': [-1, -2], \n",
        "               'balance_classes': [True, False]}\n",
        "# Train and validate a cartesian grid of DRFs\n",
        "drf_grid2  = H2OGridSearch(model=H2ORandomForestEstimator,\n",
        "                          grid_id='drf_grid2',\n",
        "                          hyper_params=drf_params2)\n",
        "drf_grid2.train(x=predictors,\n",
        "               y=response_col,\n",
        "               nfolds=0,\n",
        "               training_frame=train,\n",
        "               validation_frame=valid,\n",
        "               seed=123)"
      ]
    },
    {
      "cell_type": "code",
      "source": [
        "drf_gridperf1 = drf_grid2.get_grid(sort_by='auc', decreasing=True)\n",
        "drf_gridperf1"
      ],
      "metadata": {
        "colab": {
          "base_uri": "https://localhost:8080/",
          "height": 556
        },
        "id": "9hVDvfrVKpDb",
        "outputId": "fa532be4-a186-4cbe-8d90-d8698afa57b5"
      },
      "id": "9hVDvfrVKpDb",
      "execution_count": 63,
      "outputs": [
        {
          "output_type": "execute_result",
          "data": {
            "text/plain": [
              "Hyper-Parameter Search Summary: ordered by decreasing auc\n",
              "     max_depth    ntrees    model_ids            auc\n",
              "---  -----------  --------  -------------------  ------------------\n",
              "     15.0         75.0      drf_grid2_model_41   0.965458397446099\n",
              "     25.0         75.0      drf_grid2_model_45   0.9648476449256578\n",
              "     25.0         75.0      drf_grid2_model_44   0.9647965312908618\n",
              "     15.0         50.0      drf_grid2_model_29   0.96472764716782\n",
              "     20.0         75.0      drf_grid2_model_43   0.9643300700630616\n",
              "     25.0         50.0      drf_grid2_model_32   0.964314370606876\n",
              "     20.0         60.0      drf_grid2_model_125  0.9642225689408533\n",
              "     20.0         60.0      drf_grid2_model_157  0.9642225689408533\n",
              "     20.0         60.0      drf_grid2_model_61   0.9642225689408533\n",
              "     20.0         60.0      drf_grid2_model_93   0.9642225689408533\n",
              "---  ---          ---       ---                  ---\n",
              "     20.0         30.0      drf_grid2_model_55   0.95452634905056\n",
              "     20.0         30.0      drf_grid2_model_87   0.95452634905056\n",
              "     15.0         50.0      drf_grid2_model_5    0.9543375047394229\n",
              "     20.0         25.0      drf_grid2_model_3    0.9540444372661189\n",
              "     25.0         25.0      drf_grid2_model_4    0.9532895484282247\n",
              "     15.0         50.0      drf_grid2_model_23   0.9526810735734281\n",
              "     20.0         25.0      drf_grid2_model_13   0.9522049334406927\n",
              "     15.0         25.0      drf_grid2_model_1    0.9519414051775013\n",
              "     25.0         25.0      drf_grid2_model_15   0.9512675307932881\n",
              "     15.0         25.0      drf_grid2_model_11   0.9501204091465192\n",
              "[117 rows x 5 columns]\n"
            ],
            "text/html": [
              "\n",
              "<style>\n",
              "\n",
              "#h2o-table-18.h2o-container {\n",
              "  overflow-x: auto;\n",
              "}\n",
              "#h2o-table-18 .h2o-table {\n",
              "  /* width: 100%; */\n",
              "  margin-top: 1em;\n",
              "  margin-bottom: 1em;\n",
              "}\n",
              "#h2o-table-18 .h2o-table caption {\n",
              "  white-space: nowrap;\n",
              "  caption-side: top;\n",
              "  text-align: left;\n",
              "  /* margin-left: 1em; */\n",
              "  margin: 0;\n",
              "  font-size: larger;\n",
              "}\n",
              "#h2o-table-18 .h2o-table thead {\n",
              "  white-space: nowrap; \n",
              "  position: sticky;\n",
              "  top: 0;\n",
              "  box-shadow: 0 -1px inset;\n",
              "}\n",
              "#h2o-table-18 .h2o-table tbody {\n",
              "  overflow: auto;\n",
              "}\n",
              "#h2o-table-18 .h2o-table th,\n",
              "#h2o-table-18 .h2o-table td {\n",
              "  text-align: right;\n",
              "  /* border: 1px solid; */\n",
              "}\n",
              "#h2o-table-18 .h2o-table tr:nth-child(even) {\n",
              "  /* background: #F5F5F5 */\n",
              "}\n",
              "\n",
              "</style>      \n",
              "<div id=\"h2o-table-18\" class=\"h2o-container\">\n",
              "  <table class=\"h2o-table\">\n",
              "    <caption>Hyper-Parameter Search Summary: ordered by decreasing auc</caption>\n",
              "    <thead><tr><th></th>\n",
              "<th>max_depth</th>\n",
              "<th>ntrees</th>\n",
              "<th>model_ids</th>\n",
              "<th>auc</th></tr></thead>\n",
              "    <tbody><tr><td></td>\n",
              "<td>15.0</td>\n",
              "<td>75.0</td>\n",
              "<td>drf_grid2_model_41</td>\n",
              "<td>0.9654584</td></tr>\n",
              "<tr><td></td>\n",
              "<td>25.0</td>\n",
              "<td>75.0</td>\n",
              "<td>drf_grid2_model_45</td>\n",
              "<td>0.9648476</td></tr>\n",
              "<tr><td></td>\n",
              "<td>25.0</td>\n",
              "<td>75.0</td>\n",
              "<td>drf_grid2_model_44</td>\n",
              "<td>0.9647965</td></tr>\n",
              "<tr><td></td>\n",
              "<td>15.0</td>\n",
              "<td>50.0</td>\n",
              "<td>drf_grid2_model_29</td>\n",
              "<td>0.9647276</td></tr>\n",
              "<tr><td></td>\n",
              "<td>20.0</td>\n",
              "<td>75.0</td>\n",
              "<td>drf_grid2_model_43</td>\n",
              "<td>0.9643301</td></tr>\n",
              "<tr><td></td>\n",
              "<td>25.0</td>\n",
              "<td>50.0</td>\n",
              "<td>drf_grid2_model_32</td>\n",
              "<td>0.9643144</td></tr>\n",
              "<tr><td></td>\n",
              "<td>20.0</td>\n",
              "<td>60.0</td>\n",
              "<td>drf_grid2_model_125</td>\n",
              "<td>0.9642226</td></tr>\n",
              "<tr><td></td>\n",
              "<td>20.0</td>\n",
              "<td>60.0</td>\n",
              "<td>drf_grid2_model_157</td>\n",
              "<td>0.9642226</td></tr>\n",
              "<tr><td></td>\n",
              "<td>20.0</td>\n",
              "<td>60.0</td>\n",
              "<td>drf_grid2_model_61</td>\n",
              "<td>0.9642226</td></tr>\n",
              "<tr><td></td>\n",
              "<td>20.0</td>\n",
              "<td>60.0</td>\n",
              "<td>drf_grid2_model_93</td>\n",
              "<td>0.9642226</td></tr>\n",
              "<tr><td>---</td>\n",
              "<td>---</td>\n",
              "<td>---</td>\n",
              "<td>---</td>\n",
              "<td>---</td></tr>\n",
              "<tr><td></td>\n",
              "<td>20.0</td>\n",
              "<td>30.0</td>\n",
              "<td>drf_grid2_model_55</td>\n",
              "<td>0.9545263</td></tr>\n",
              "<tr><td></td>\n",
              "<td>20.0</td>\n",
              "<td>30.0</td>\n",
              "<td>drf_grid2_model_87</td>\n",
              "<td>0.9545263</td></tr>\n",
              "<tr><td></td>\n",
              "<td>15.0</td>\n",
              "<td>50.0</td>\n",
              "<td>drf_grid2_model_5</td>\n",
              "<td>0.9543375</td></tr>\n",
              "<tr><td></td>\n",
              "<td>20.0</td>\n",
              "<td>25.0</td>\n",
              "<td>drf_grid2_model_3</td>\n",
              "<td>0.9540444</td></tr>\n",
              "<tr><td></td>\n",
              "<td>25.0</td>\n",
              "<td>25.0</td>\n",
              "<td>drf_grid2_model_4</td>\n",
              "<td>0.9532895</td></tr>\n",
              "<tr><td></td>\n",
              "<td>15.0</td>\n",
              "<td>50.0</td>\n",
              "<td>drf_grid2_model_23</td>\n",
              "<td>0.9526811</td></tr>\n",
              "<tr><td></td>\n",
              "<td>20.0</td>\n",
              "<td>25.0</td>\n",
              "<td>drf_grid2_model_13</td>\n",
              "<td>0.9522049</td></tr>\n",
              "<tr><td></td>\n",
              "<td>15.0</td>\n",
              "<td>25.0</td>\n",
              "<td>drf_grid2_model_1</td>\n",
              "<td>0.9519414</td></tr>\n",
              "<tr><td></td>\n",
              "<td>25.0</td>\n",
              "<td>25.0</td>\n",
              "<td>drf_grid2_model_15</td>\n",
              "<td>0.9512675</td></tr>\n",
              "<tr><td></td>\n",
              "<td>15.0</td>\n",
              "<td>25.0</td>\n",
              "<td>drf_grid2_model_11</td>\n",
              "<td>0.9501204</td></tr></tbody>\n",
              "  </table>\n",
              "</div>\n",
              "<pre style='font-size: smaller; margin-bottom: 1em;'>[117 rows x 5 columns]</pre>"
            ]
          },
          "metadata": {},
          "execution_count": 63
        }
      ]
    },
    {
      "cell_type": "code",
      "source": [
        "drf_gridperf1.columns['max_depth']"
      ],
      "metadata": {
        "colab": {
          "base_uri": "https://localhost:8080/",
          "height": 307
        },
        "id": "Bo0t_bbpkWO2",
        "outputId": "26c83ce3-e0e1-461a-c3f4-dac860766eb7"
      },
      "id": "Bo0t_bbpkWO2",
      "execution_count": 59,
      "outputs": [
        {
          "output_type": "error",
          "ename": "AttributeError",
          "evalue": "ignored",
          "traceback": [
            "\u001b[0;31m---------------------------------------------------------------------------\u001b[0m",
            "\u001b[0;31mAttributeError\u001b[0m                            Traceback (most recent call last)",
            "\u001b[0;32m<ipython-input-59-e47c71cac8f7>\u001b[0m in \u001b[0;36m<module>\u001b[0;34m\u001b[0m\n\u001b[0;32m----> 1\u001b[0;31m \u001b[0mdrf_gridperf1\u001b[0m\u001b[0;34m.\u001b[0m\u001b[0mcolumns\u001b[0m\u001b[0;34m[\u001b[0m\u001b[0;34m'max_depth'\u001b[0m\u001b[0;34m]\u001b[0m\u001b[0;34m\u001b[0m\u001b[0;34m\u001b[0m\u001b[0m\n\u001b[0m",
            "\u001b[0;32m/usr/local/lib/python3.8/dist-packages/h2o/utils/metaclass.py\u001b[0m in \u001b[0;36m__getattr__\u001b[0;34m(self, name)\u001b[0m\n\u001b[1;32m    343\u001b[0m             \u001b[0;32mif\u001b[0m \u001b[0mname\u001b[0m \u001b[0;32min\u001b[0m \u001b[0mself\u001b[0m\u001b[0;34m.\u001b[0m\u001b[0m_bci\u001b[0m\u001b[0;34m:\u001b[0m\u001b[0;34m\u001b[0m\u001b[0;34m\u001b[0m\u001b[0m\n\u001b[1;32m    344\u001b[0m                 \u001b[0;32mreturn\u001b[0m \u001b[0mself\u001b[0m\u001b[0;34m.\u001b[0m\u001b[0m_bci\u001b[0m\u001b[0;34m[\u001b[0m\u001b[0mname\u001b[0m\u001b[0;34m]\u001b[0m\u001b[0;34m\u001b[0m\u001b[0;34m\u001b[0m\u001b[0m\n\u001b[0;32m--> 345\u001b[0;31m             \u001b[0;32mreturn\u001b[0m \u001b[0mgetattr\u001b[0m\u001b[0;34m(\u001b[0m\u001b[0mnew_clz\u001b[0m\u001b[0;34m,\u001b[0m \u001b[0mname\u001b[0m\u001b[0;34m)\u001b[0m\u001b[0;34m\u001b[0m\u001b[0;34m\u001b[0m\u001b[0m\n\u001b[0m\u001b[1;32m    346\u001b[0m \u001b[0;34m\u001b[0m\u001b[0m\n\u001b[1;32m    347\u001b[0m         \u001b[0mnew_clz\u001b[0m \u001b[0;34m=\u001b[0m \u001b[0mextend_and_replace\u001b[0m\u001b[0;34m(\u001b[0m\u001b[0mclz\u001b[0m\u001b[0;34m,\u001b[0m \u001b[0m__init__\u001b[0m\u001b[0;34m=\u001b[0m\u001b[0m__init__\u001b[0m\u001b[0;34m,\u001b[0m \u001b[0m__getattr__\u001b[0m\u001b[0;34m=\u001b[0m\u001b[0m__getattr__\u001b[0m\u001b[0;34m)\u001b[0m\u001b[0;34m\u001b[0m\u001b[0;34m\u001b[0m\u001b[0m\n",
            "\u001b[0;32m/usr/local/lib/python3.8/dist-packages/h2o/utils/metaclass.py\u001b[0m in \u001b[0;36m__getattribute__\u001b[0;34m(cls, name)\u001b[0m\n\u001b[1;32m    388\u001b[0m             \u001b[0;32mif\u001b[0m \u001b[0mattr\u001b[0m \u001b[0;32mis\u001b[0m \u001b[0;32mnot\u001b[0m \u001b[0mMetaFeature\u001b[0m\u001b[0;34m.\u001b[0m\u001b[0mNOT_FOUND\u001b[0m\u001b[0;34m:\u001b[0m\u001b[0;34m\u001b[0m\u001b[0;34m\u001b[0m\u001b[0m\n\u001b[1;32m    389\u001b[0m                 \u001b[0;32mreturn\u001b[0m \u001b[0mattr\u001b[0m\u001b[0;34m\u001b[0m\u001b[0;34m\u001b[0m\u001b[0m\n\u001b[0;32m--> 390\u001b[0;31m         \u001b[0;32mreturn\u001b[0m \u001b[0mtype\u001b[0m\u001b[0;34m.\u001b[0m\u001b[0m__getattribute__\u001b[0m\u001b[0;34m(\u001b[0m\u001b[0mcls\u001b[0m\u001b[0;34m,\u001b[0m \u001b[0mname\u001b[0m\u001b[0;34m)\u001b[0m\u001b[0;34m\u001b[0m\u001b[0;34m\u001b[0m\u001b[0m\n\u001b[0m\u001b[1;32m    391\u001b[0m \u001b[0;34m\u001b[0m\u001b[0m\n\u001b[1;32m    392\u001b[0m     \u001b[0;32mdef\u001b[0m \u001b[0m__setattr__\u001b[0m\u001b[0;34m(\u001b[0m\u001b[0mcls\u001b[0m\u001b[0;34m,\u001b[0m \u001b[0mname\u001b[0m\u001b[0;34m,\u001b[0m \u001b[0mvalue\u001b[0m\u001b[0;34m)\u001b[0m\u001b[0;34m:\u001b[0m\u001b[0;34m\u001b[0m\u001b[0;34m\u001b[0m\u001b[0m\n",
            "\u001b[0;31mAttributeError\u001b[0m: type object 'H2OGridSearch' has no attribute 'columns'"
          ]
        }
      ]
    },
    {
      "cell_type": "code",
      "source": [
        "best_drf = drf_gridperf1.models[0]\n",
        "best_drf_perf1 = best_drf.model_performance(test)\n",
        "\n",
        "best_drf_perf1.auc()"
      ],
      "metadata": {
        "colab": {
          "base_uri": "https://localhost:8080/"
        },
        "id": "ws0csYQCPyRx",
        "outputId": "0ed7d20a-f947-4d57-e689-7ca4af8ae08a"
      },
      "id": "ws0csYQCPyRx",
      "execution_count": 57,
      "outputs": [
        {
          "output_type": "execute_result",
          "data": {
            "text/plain": [
              "0.9661753751998513"
            ]
          },
          "metadata": {},
          "execution_count": 57
        }
      ]
    },
    {
      "cell_type": "markdown",
      "id": "5650b256",
      "metadata": {
        "id": "5650b256"
      },
      "source": [
        "## Question 3\n",
        "\n",
        "You are asked to tune the model from question #1. You should review full parameter list for the DRF model documentation: https://docs.h2o.ai/h2o/latest-stable/h2o-docs/data-science/drf.html#defining-a-drf-model\n",
        "\n",
        "Tune model using early stopping criteria by specifying `ntrees`=1000 and setting the parameters required for early stopping. You will need to provide Validation data-frame for early stopping to work correctly.\n",
        "\n",
        "\n",
        "Alternative to find optimal setting for `ntrees` (number of trees in RF) parameter is to set it to high number, and use early stopping to find optimal number of trees.\n",
        "\n",
        "Find best parameters using H2O GridSearch for the following search space.\n",
        "You should experiment with additional options/parameters to see if you can train better models.\n",
        "The goal is to get a better model than in Q2. Add at least one additional hyper-parameter to tune.\n",
        "Minimum parameters to tune:\n",
        "```\n",
        "drf_params  = {'max_depth': [10,15, 25]}\n",
        "```\n",
        "You should review early stopping parameters to be added to the `train` method:\n",
        "- stopping_rounds\n",
        "- stopping_metric\n",
        "- stopping_tolerance\n",
        "\n",
        "               \n",
        "Answer following questions:\n",
        "- What is the best set of parameters for the DRF model using AUCPR metric?\n",
        "- What is the best model performance (AUCPR) on a validation dataset?\n",
        "- What is the best model performance (AUCPR) on a test dataset?\n",
        "- Produce Confusion Matrix using best F1 probability threshold"
      ]
    },
    {
      "cell_type": "code",
      "execution_count": null,
      "id": "62fd4dc7",
      "metadata": {
        "id": "62fd4dc7"
      },
      "outputs": [],
      "source": []
    },
    {
      "cell_type": "markdown",
      "id": "d4b5b6eb",
      "metadata": {
        "id": "d4b5b6eb"
      },
      "source": [
        "## Question 4\n",
        "\n",
        "Use best model parameters from the GridSearch in question #3. Train new model as following:\n",
        "- Train model on a combined dataset: train+validation\n",
        "- Don't use cross-validation - `nfolds=0`\n",
        "- Evaluate trained model on test dataset\n",
        "- Compare AUCPR (test dataset) metrics from the question #2 and #3"
      ]
    },
    {
      "cell_type": "code",
      "execution_count": null,
      "id": "e4f91f53",
      "metadata": {
        "id": "e4f91f53"
      },
      "outputs": [],
      "source": []
    },
    {
      "cell_type": "markdown",
      "id": "15897508",
      "metadata": {
        "id": "15897508"
      },
      "source": [
        "# Question 5\n",
        "\n",
        "Review following documentation section first: https://docs.h2o.ai/h2o/latest-stable/h2o-docs/cross-validation.html\n",
        "\n",
        "- Train DRF model with the parameters found in the Question 3.\n",
        "- Use full data to train the model.\n",
        "- Use cross-validation to produce reliable metrics for the model performance\n",
        "- Produce model metrics using cross-validation \n",
        "\n",
        "**Note**: understand why the model training takes significantly longer than before we used cross-validation"
      ]
    },
    {
      "cell_type": "code",
      "execution_count": null,
      "id": "95822dfe",
      "metadata": {
        "id": "95822dfe"
      },
      "outputs": [],
      "source": []
    }
  ],
  "metadata": {
    "kernelspec": {
      "display_name": "Python 3 (ipykernel)",
      "language": "python",
      "name": "python3"
    },
    "language_info": {
      "codemirror_mode": {
        "name": "ipython",
        "version": 3
      },
      "file_extension": ".py",
      "mimetype": "text/x-python",
      "name": "python",
      "nbconvert_exporter": "python",
      "pygments_lexer": "ipython3",
      "version": "3.8.10"
    },
    "colab": {
      "provenance": [],
      "include_colab_link": true
    }
  },
  "nbformat": 4,
  "nbformat_minor": 5
}